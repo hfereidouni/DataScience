{
 "cells": [
  {
   "cell_type": "code",
   "execution_count": 1,
   "metadata": {},
   "outputs": [],
   "source": [
    "import requests\n",
    "from Tidy_Data_new import *"
   ]
  },
  {
   "cell_type": "code",
   "execution_count": null,
   "metadata": {},
   "outputs": [],
   "source": [
    "if not os.path.exists(\"csv\"):\n",
    "    os.makedirs(\"csv\")\n",
    "for year in [2020,2021,2022]: # 2020 has been excluded to be reserved as the test set\n",
    "    read_a_season(\"../nhl_data/\",year).to_csv('csv/tidy_{season}.csv'.format(season = year), sep = ',', index = False)"
   ]
  },
  {
   "cell_type": "code",
   "execution_count": 4,
   "metadata": {},
   "outputs": [
    {
     "name": "stderr",
     "output_type": "stream",
     "text": [
      "Loading files: 100%|██████████| 3/3 [00:00<00:00,  5.28file/s]\n"
     ]
    }
   ],
   "source": [
    "directory = 'csv'\n",
    "\n",
    "# Get a list of csv file names within the directory\n",
    "csv_files = [f for f in os.listdir(directory) if f.endswith('.csv')]\n",
    "\n",
    "# Sort the list of csv files\n",
    "csv_files.sort()\n",
    "\n",
    "# List to hold your DataFrames\n",
    "dataframes_list = []\n",
    "\n",
    "# Loop over the sorted list of csv files with tqdm for progress indication\n",
    "for filename in tqdm(csv_files, desc=\"Loading files\", unit=\"file\"):\n",
    "    file_path = os.path.join(directory, filename)\n",
    "    df = pd.read_csv(file_path)\n",
    "\n",
    "    # Filter the DataFrame to only include rows where 5th and 6th digits of 'game_id' are '02' (Regular Season)\n",
    "\n",
    "    dataframes_list.append(df)\n",
    "\n",
    "# Concatenate all the DataFrames in the list into a single DataFrame\n",
    "test_df = pd.concat(dataframes_list, ignore_index=True)\n",
    "\n",
    "# Sort the DataFrame first by 'game_id' and then by 'event_idx'\n",
    "test_df= test_df.sort_values(by=['game_id', 'event_idx'])\n",
    "\n",
    "# Reset the index of the sorted DataFrame\n",
    "test_df = test_df.reset_index(drop=True)"
   ]
  },
  {
   "cell_type": "code",
   "execution_count": 5,
   "metadata": {},
   "outputs": [
    {
     "data": {
      "text/html": [
       "<div>\n",
       "<style scoped>\n",
       "    .dataframe tbody tr th:only-of-type {\n",
       "        vertical-align: middle;\n",
       "    }\n",
       "\n",
       "    .dataframe tbody tr th {\n",
       "        vertical-align: top;\n",
       "    }\n",
       "\n",
       "    .dataframe thead th {\n",
       "        text-align: right;\n",
       "    }\n",
       "</style>\n",
       "<table border=\"1\" class=\"dataframe\">\n",
       "  <thead>\n",
       "    <tr style=\"text-align: right;\">\n",
       "      <th></th>\n",
       "      <th>game_id</th>\n",
       "      <th>event_idx</th>\n",
       "      <th>play_type</th>\n",
       "      <th>shot_type</th>\n",
       "      <th>shot_dist</th>\n",
       "      <th>game_time</th>\n",
       "      <th>period</th>\n",
       "      <th>period_time_rem</th>\n",
       "      <th>coordinate</th>\n",
       "      <th>shooter_id</th>\n",
       "      <th>goalie_id</th>\n",
       "      <th>empty_Net</th>\n",
       "      <th>rink_side</th>\n",
       "      <th>angle_net</th>\n",
       "      <th>is_goal</th>\n",
       "    </tr>\n",
       "  </thead>\n",
       "  <tbody>\n",
       "    <tr>\n",
       "      <th>0</th>\n",
       "      <td>2020020001</td>\n",
       "      <td>9</td>\n",
       "      <td>Shot</td>\n",
       "      <td>Wrist Shot</td>\n",
       "      <td>47.169906</td>\n",
       "      <td>2021-01-13T22:30:00Z</td>\n",
       "      <td>1</td>\n",
       "      <td>19:26</td>\n",
       "      <td>{'x': 49, 'y': -25}</td>\n",
       "      <td>8478542</td>\n",
       "      <td>8479394.0</td>\n",
       "      <td>0</td>\n",
       "      <td>left</td>\n",
       "      <td>-32.005383</td>\n",
       "      <td>0</td>\n",
       "    </tr>\n",
       "    <tr>\n",
       "      <th>1</th>\n",
       "      <td>2020020001</td>\n",
       "      <td>34</td>\n",
       "      <td>Shot</td>\n",
       "      <td>Snap Shot</td>\n",
       "      <td>63.812225</td>\n",
       "      <td>2021-01-13T22:30:00Z</td>\n",
       "      <td>1</td>\n",
       "      <td>08:21</td>\n",
       "      <td>{'x': -35, 'y': -34}</td>\n",
       "      <td>8477462</td>\n",
       "      <td>8477465.0</td>\n",
       "      <td>0</td>\n",
       "      <td>right</td>\n",
       "      <td>32.195734</td>\n",
       "      <td>0</td>\n",
       "    </tr>\n",
       "    <tr>\n",
       "      <th>2</th>\n",
       "      <td>2020020001</td>\n",
       "      <td>42</td>\n",
       "      <td>Shot</td>\n",
       "      <td>Wrist Shot</td>\n",
       "      <td>29.068884</td>\n",
       "      <td>2021-01-13T22:30:00Z</td>\n",
       "      <td>1</td>\n",
       "      <td>04:18</td>\n",
       "      <td>{'x': 87, 'y': 29}</td>\n",
       "      <td>8471675</td>\n",
       "      <td>8479394.0</td>\n",
       "      <td>0</td>\n",
       "      <td>left</td>\n",
       "      <td>86.054814</td>\n",
       "      <td>0</td>\n",
       "    </tr>\n",
       "    <tr>\n",
       "      <th>3</th>\n",
       "      <td>2020020001</td>\n",
       "      <td>53</td>\n",
       "      <td>Shot</td>\n",
       "      <td>Wrist Shot</td>\n",
       "      <td>32.649655</td>\n",
       "      <td>2021-01-13T22:30:00Z</td>\n",
       "      <td>1</td>\n",
       "      <td>19:44</td>\n",
       "      <td>{'x': -74, 'y': 29}</td>\n",
       "      <td>8478439</td>\n",
       "      <td>8477465.0</td>\n",
       "      <td>0</td>\n",
       "      <td>right</td>\n",
       "      <td>-62.650124</td>\n",
       "      <td>0</td>\n",
       "    </tr>\n",
       "    <tr>\n",
       "      <th>4</th>\n",
       "      <td>2020020001</td>\n",
       "      <td>55</td>\n",
       "      <td>Shot</td>\n",
       "      <td>Backhand</td>\n",
       "      <td>48.270074</td>\n",
       "      <td>2021-01-13T22:30:00Z</td>\n",
       "      <td>1</td>\n",
       "      <td>18:55</td>\n",
       "      <td>{'x': -52, 'y': -31}</td>\n",
       "      <td>8480797</td>\n",
       "      <td>8477465.0</td>\n",
       "      <td>0</td>\n",
       "      <td>right</td>\n",
       "      <td>39.957549</td>\n",
       "      <td>0</td>\n",
       "    </tr>\n",
       "    <tr>\n",
       "      <th>...</th>\n",
       "      <td>...</td>\n",
       "      <td>...</td>\n",
       "      <td>...</td>\n",
       "      <td>...</td>\n",
       "      <td>...</td>\n",
       "      <td>...</td>\n",
       "      <td>...</td>\n",
       "      <td>...</td>\n",
       "      <td>...</td>\n",
       "      <td>...</td>\n",
       "      <td>...</td>\n",
       "      <td>...</td>\n",
       "      <td>...</td>\n",
       "      <td>...</td>\n",
       "      <td>...</td>\n",
       "    </tr>\n",
       "    <tr>\n",
       "      <th>324175</th>\n",
       "      <td>2022030415</td>\n",
       "      <td>796</td>\n",
       "      <td>Shot</td>\n",
       "      <td>Wrist Shot</td>\n",
       "      <td>126.826653</td>\n",
       "      <td>2023-06-14T00:00:00Z</td>\n",
       "      <td>3</td>\n",
       "      <td>02:01</td>\n",
       "      <td>{'x': -32, 'y': 38}</td>\n",
       "      <td>8479372</td>\n",
       "      <td>8478499.0</td>\n",
       "      <td>0</td>\n",
       "      <td>left</td>\n",
       "      <td>17.434875</td>\n",
       "      <td>0</td>\n",
       "    </tr>\n",
       "    <tr>\n",
       "      <th>324176</th>\n",
       "      <td>2022030415</td>\n",
       "      <td>1001</td>\n",
       "      <td>Shot</td>\n",
       "      <td>Wrist Shot</td>\n",
       "      <td>61.400326</td>\n",
       "      <td>2023-06-14T00:00:00Z</td>\n",
       "      <td>3</td>\n",
       "      <td>01:05</td>\n",
       "      <td>{'x': -36, 'y': -31}</td>\n",
       "      <td>8477447</td>\n",
       "      <td>8475683.0</td>\n",
       "      <td>0</td>\n",
       "      <td>right</td>\n",
       "      <td>30.323607</td>\n",
       "      <td>0</td>\n",
       "    </tr>\n",
       "    <tr>\n",
       "      <th>324177</th>\n",
       "      <td>2022030415</td>\n",
       "      <td>1002</td>\n",
       "      <td>Goal</td>\n",
       "      <td>Wrist Shot</td>\n",
       "      <td>5.830952</td>\n",
       "      <td>2023-06-14T00:00:00Z</td>\n",
       "      <td>3</td>\n",
       "      <td>01:02</td>\n",
       "      <td>{'x': -86, 'y': 5}</td>\n",
       "      <td>8478462</td>\n",
       "      <td>8475683.0</td>\n",
       "      <td>0</td>\n",
       "      <td>right</td>\n",
       "      <td>-59.036243</td>\n",
       "      <td>1</td>\n",
       "    </tr>\n",
       "    <tr>\n",
       "      <th>324178</th>\n",
       "      <td>2022030415</td>\n",
       "      <td>1055</td>\n",
       "      <td>Shot</td>\n",
       "      <td>Wrist Shot</td>\n",
       "      <td>6.403124</td>\n",
       "      <td>2023-06-14T00:00:00Z</td>\n",
       "      <td>3</td>\n",
       "      <td>05:31</td>\n",
       "      <td>{'x': 84, 'y': 4}</td>\n",
       "      <td>8479066</td>\n",
       "      <td>8478499.0</td>\n",
       "      <td>0</td>\n",
       "      <td>left</td>\n",
       "      <td>38.659808</td>\n",
       "      <td>0</td>\n",
       "    </tr>\n",
       "    <tr>\n",
       "      <th>324179</th>\n",
       "      <td>2022030415</td>\n",
       "      <td>1056</td>\n",
       "      <td>Shot</td>\n",
       "      <td>Wrist Shot</td>\n",
       "      <td>21.470911</td>\n",
       "      <td>2023-06-14T00:00:00Z</td>\n",
       "      <td>3</td>\n",
       "      <td>07:56</td>\n",
       "      <td>{'x': -99, 'y': -19}</td>\n",
       "      <td>8476448</td>\n",
       "      <td>8475683.0</td>\n",
       "      <td>0</td>\n",
       "      <td>right</td>\n",
       "      <td>62.241459</td>\n",
       "      <td>0</td>\n",
       "    </tr>\n",
       "  </tbody>\n",
       "</table>\n",
       "<p>324180 rows × 15 columns</p>\n",
       "</div>"
      ],
      "text/plain": [
       "           game_id  event_idx play_type   shot_type   shot_dist  \\\n",
       "0       2020020001          9      Shot  Wrist Shot   47.169906   \n",
       "1       2020020001         34      Shot   Snap Shot   63.812225   \n",
       "2       2020020001         42      Shot  Wrist Shot   29.068884   \n",
       "3       2020020001         53      Shot  Wrist Shot   32.649655   \n",
       "4       2020020001         55      Shot    Backhand   48.270074   \n",
       "...            ...        ...       ...         ...         ...   \n",
       "324175  2022030415        796      Shot  Wrist Shot  126.826653   \n",
       "324176  2022030415       1001      Shot  Wrist Shot   61.400326   \n",
       "324177  2022030415       1002      Goal  Wrist Shot    5.830952   \n",
       "324178  2022030415       1055      Shot  Wrist Shot    6.403124   \n",
       "324179  2022030415       1056      Shot  Wrist Shot   21.470911   \n",
       "\n",
       "                   game_time  period period_time_rem            coordinate  \\\n",
       "0       2021-01-13T22:30:00Z       1           19:26   {'x': 49, 'y': -25}   \n",
       "1       2021-01-13T22:30:00Z       1           08:21  {'x': -35, 'y': -34}   \n",
       "2       2021-01-13T22:30:00Z       1           04:18    {'x': 87, 'y': 29}   \n",
       "3       2021-01-13T22:30:00Z       1           19:44   {'x': -74, 'y': 29}   \n",
       "4       2021-01-13T22:30:00Z       1           18:55  {'x': -52, 'y': -31}   \n",
       "...                      ...     ...             ...                   ...   \n",
       "324175  2023-06-14T00:00:00Z       3           02:01   {'x': -32, 'y': 38}   \n",
       "324176  2023-06-14T00:00:00Z       3           01:05  {'x': -36, 'y': -31}   \n",
       "324177  2023-06-14T00:00:00Z       3           01:02    {'x': -86, 'y': 5}   \n",
       "324178  2023-06-14T00:00:00Z       3           05:31     {'x': 84, 'y': 4}   \n",
       "324179  2023-06-14T00:00:00Z       3           07:56  {'x': -99, 'y': -19}   \n",
       "\n",
       "        shooter_id  goalie_id  empty_Net rink_side  angle_net  is_goal  \n",
       "0          8478542  8479394.0          0      left -32.005383        0  \n",
       "1          8477462  8477465.0          0     right  32.195734        0  \n",
       "2          8471675  8479394.0          0      left  86.054814        0  \n",
       "3          8478439  8477465.0          0     right -62.650124        0  \n",
       "4          8480797  8477465.0          0     right  39.957549        0  \n",
       "...            ...        ...        ...       ...        ...      ...  \n",
       "324175     8479372  8478499.0          0      left  17.434875        0  \n",
       "324176     8477447  8475683.0          0     right  30.323607        0  \n",
       "324177     8478462  8475683.0          0     right -59.036243        1  \n",
       "324178     8479066  8478499.0          0      left  38.659808        0  \n",
       "324179     8476448  8475683.0          0     right  62.241459        0  \n",
       "\n",
       "[324180 rows x 15 columns]"
      ]
     },
     "execution_count": 5,
     "metadata": {},
     "output_type": "execute_result"
    }
   ],
   "source": [
    "test_df"
   ]
  },
  {
   "cell_type": "code",
   "execution_count": 100,
   "metadata": {},
   "outputs": [
    {
     "data": {
      "text/plain": [
       "['shot_dist']"
      ]
     },
     "execution_count": 100,
     "metadata": {},
     "output_type": "execute_result"
    }
   ],
   "source": [
    "r = requests.get(\n",
    "\t\"http://localhost:8080/check\", \n",
    ")\n",
    "r.json()"
   ]
  },
  {
   "cell_type": "code",
   "execution_count": 2,
   "metadata": {},
   "outputs": [
    {
     "ename": "NameError",
     "evalue": "name 'requests' is not defined",
     "output_type": "error",
     "traceback": [
      "\u001b[1;31m---------------------------------------------------------------------------\u001b[0m",
      "\u001b[1;31mNameError\u001b[0m                                 Traceback (most recent call last)",
      "\u001b[1;32mc:\\Users\\yujd1\\Documents\\GitHub\\datascience\\Milestone3\\Flask_app.ipynb 单元格 6\u001b[0m line \u001b[0;36m1\n\u001b[1;32m----> <a href='vscode-notebook-cell:/c%3A/Users/yujd1/Documents/GitHub/datascience/Milestone3/Flask_app.ipynb#W5sZmlsZQ%3D%3D?line=0'>1</a>\u001b[0m r \u001b[39m=\u001b[39m requests\u001b[39m.\u001b[39mget(\n\u001b[0;32m      <a href='vscode-notebook-cell:/c%3A/Users/yujd1/Documents/GitHub/datascience/Milestone3/Flask_app.ipynb#W5sZmlsZQ%3D%3D?line=1'>2</a>\u001b[0m \t\u001b[39m\"\u001b[39m\u001b[39mhttp://localhost:8080/logs\u001b[39m\u001b[39m\"\u001b[39m, \n\u001b[0;32m      <a href='vscode-notebook-cell:/c%3A/Users/yujd1/Documents/GitHub/datascience/Milestone3/Flask_app.ipynb#W5sZmlsZQ%3D%3D?line=2'>3</a>\u001b[0m )\n\u001b[0;32m      <a href='vscode-notebook-cell:/c%3A/Users/yujd1/Documents/GitHub/datascience/Milestone3/Flask_app.ipynb#W5sZmlsZQ%3D%3D?line=3'>4</a>\u001b[0m r\u001b[39m.\u001b[39mjson()\n",
      "\u001b[1;31mNameError\u001b[0m: name 'requests' is not defined"
     ]
    }
   ],
   "source": [
    "r = requests.get(\n",
    "\t\"http://localhost:8080/logs\", \n",
    ")\n",
    "r.json()"
   ]
  },
  {
   "cell_type": "code",
   "execution_count": 3,
   "metadata": {},
   "outputs": [
    {
     "data": {
      "text/plain": [
       "'Log_Reg_shot_dist_only is not a valide model'"
      ]
     },
     "execution_count": 3,
     "metadata": {},
     "output_type": "execute_result"
    }
   ],
   "source": [
    "request1 = {\"model_name\":\"log_reg_shot_dist_and_angle\",\n",
    "           \"version\":\"1.9.0\"}\n",
    "\n",
    "request2 = {\"model_name\":\"Log_Reg_shot_dist_only\",\n",
    "           \"version\":\"1.17.0\"}\n",
    "\n",
    "\n",
    "request3 = {\"model_name\":\"qwfqwfqwf\",\n",
    "           \"version\":\"1.17.0\"}\n",
    "\n",
    "# request.get_json()\n",
    "r = requests.post(\n",
    "\t\"http://localhost:8080/download_registry_model\", \n",
    "    json= request2\n",
    ")\n",
    "r.json()"
   ]
  },
  {
   "cell_type": "code",
   "execution_count": 14,
   "metadata": {},
   "outputs": [
    {
     "data": {
      "text/html": [
       "<style>#sk-container-id-1 {color: black;}#sk-container-id-1 pre{padding: 0;}#sk-container-id-1 div.sk-toggleable {background-color: white;}#sk-container-id-1 label.sk-toggleable__label {cursor: pointer;display: block;width: 100%;margin-bottom: 0;padding: 0.3em;box-sizing: border-box;text-align: center;}#sk-container-id-1 label.sk-toggleable__label-arrow:before {content: \"▸\";float: left;margin-right: 0.25em;color: #696969;}#sk-container-id-1 label.sk-toggleable__label-arrow:hover:before {color: black;}#sk-container-id-1 div.sk-estimator:hover label.sk-toggleable__label-arrow:before {color: black;}#sk-container-id-1 div.sk-toggleable__content {max-height: 0;max-width: 0;overflow: hidden;text-align: left;background-color: #f0f8ff;}#sk-container-id-1 div.sk-toggleable__content pre {margin: 0.2em;color: black;border-radius: 0.25em;background-color: #f0f8ff;}#sk-container-id-1 input.sk-toggleable__control:checked~div.sk-toggleable__content {max-height: 200px;max-width: 100%;overflow: auto;}#sk-container-id-1 input.sk-toggleable__control:checked~label.sk-toggleable__label-arrow:before {content: \"▾\";}#sk-container-id-1 div.sk-estimator input.sk-toggleable__control:checked~label.sk-toggleable__label {background-color: #d4ebff;}#sk-container-id-1 div.sk-label input.sk-toggleable__control:checked~label.sk-toggleable__label {background-color: #d4ebff;}#sk-container-id-1 input.sk-hidden--visually {border: 0;clip: rect(1px 1px 1px 1px);clip: rect(1px, 1px, 1px, 1px);height: 1px;margin: -1px;overflow: hidden;padding: 0;position: absolute;width: 1px;}#sk-container-id-1 div.sk-estimator {font-family: monospace;background-color: #f0f8ff;border: 1px dotted black;border-radius: 0.25em;box-sizing: border-box;margin-bottom: 0.5em;}#sk-container-id-1 div.sk-estimator:hover {background-color: #d4ebff;}#sk-container-id-1 div.sk-parallel-item::after {content: \"\";width: 100%;border-bottom: 1px solid gray;flex-grow: 1;}#sk-container-id-1 div.sk-label:hover label.sk-toggleable__label {background-color: #d4ebff;}#sk-container-id-1 div.sk-serial::before {content: \"\";position: absolute;border-left: 1px solid gray;box-sizing: border-box;top: 0;bottom: 0;left: 50%;z-index: 0;}#sk-container-id-1 div.sk-serial {display: flex;flex-direction: column;align-items: center;background-color: white;padding-right: 0.2em;padding-left: 0.2em;position: relative;}#sk-container-id-1 div.sk-item {position: relative;z-index: 1;}#sk-container-id-1 div.sk-parallel {display: flex;align-items: stretch;justify-content: center;background-color: white;position: relative;}#sk-container-id-1 div.sk-item::before, #sk-container-id-1 div.sk-parallel-item::before {content: \"\";position: absolute;border-left: 1px solid gray;box-sizing: border-box;top: 0;bottom: 0;left: 50%;z-index: -1;}#sk-container-id-1 div.sk-parallel-item {display: flex;flex-direction: column;z-index: 1;position: relative;background-color: white;}#sk-container-id-1 div.sk-parallel-item:first-child::after {align-self: flex-end;width: 50%;}#sk-container-id-1 div.sk-parallel-item:last-child::after {align-self: flex-start;width: 50%;}#sk-container-id-1 div.sk-parallel-item:only-child::after {width: 0;}#sk-container-id-1 div.sk-dashed-wrapped {border: 1px dashed gray;margin: 0 0.4em 0.5em 0.4em;box-sizing: border-box;padding-bottom: 0.4em;background-color: white;}#sk-container-id-1 div.sk-label label {font-family: monospace;font-weight: bold;display: inline-block;line-height: 1.2em;}#sk-container-id-1 div.sk-label-container {text-align: center;}#sk-container-id-1 div.sk-container {/* jupyter's `normalize.less` sets `[hidden] { display: none; }` but bootstrap.min.css set `[hidden] { display: none !important; }` so we also need the `!important` here to be able to override the default hidden behavior on the sphinx rendered scikit-learn.org. See: https://github.com/scikit-learn/scikit-learn/issues/21755 */display: inline-block !important;position: relative;}#sk-container-id-1 div.sk-text-repr-fallback {display: none;}</style><div id=\"sk-container-id-1\" class=\"sk-top-container\"><div class=\"sk-text-repr-fallback\"><pre>LogisticRegression()</pre><b>In a Jupyter environment, please rerun this cell to show the HTML representation or trust the notebook. <br />On GitHub, the HTML representation is unable to render, please try loading this page with nbviewer.org.</b></div><div class=\"sk-container\" hidden><div class=\"sk-item\"><div class=\"sk-estimator sk-toggleable\"><input class=\"sk-toggleable__control sk-hidden--visually\" id=\"sk-estimator-id-1\" type=\"checkbox\" checked><label for=\"sk-estimator-id-1\" class=\"sk-toggleable__label sk-toggleable__label-arrow\">LogisticRegression</label><div class=\"sk-toggleable__content\"><pre>LogisticRegression()</pre></div></div></div></div></div>"
      ],
      "text/plain": [
       "LogisticRegression()"
      ]
     },
     "execution_count": 14,
     "metadata": {},
     "output_type": "execute_result"
    }
   ],
   "source": [
    "import joblib\n",
    "from flask import Flask, jsonify, request, abort\n",
    "model = joblib.load('serving/models/Log_Reg_shot_dist_only.joblib')\n",
    "model"
   ]
  },
  {
   "cell_type": "code",
   "execution_count": 15,
   "metadata": {},
   "outputs": [],
   "source": [
    "input = test_df.loc[1:100][['shot_dist','angle_net']]\n",
    "r= requests.post(\n",
    "    \"http://localhost:8080/predict\",\n",
    "    json =input.to_json()\n",
    ")\n",
    "# r.json()"
   ]
  },
  {
   "cell_type": "code",
   "execution_count": 16,
   "metadata": {},
   "outputs": [
    {
     "data": {
      "text/plain": [
       "'{\"chance of goal\":{\"0\":0.0330831896,\"1\":0.0975061246,\"2\":0.0855079663,\"3\":0.0539783583,\"4\":0.0370185508,\"5\":0.0442582565,\"6\":0.075899741,\"7\":0.1282438058,\"8\":0.0568594851,\"9\":0.067498384,\"10\":0.1676463238,\"11\":0.0540635597,\"12\":0.1439588429,\"13\":0.0646273808,\"14\":0.1180440447,\"15\":0.0583658374,\"16\":0.0373138366,\"17\":0.0605328246,\"18\":0.1250413385,\"19\":0.0531495274,\"20\":0.1652595431,\"21\":0.0379554922,\"22\":0.1153025186,\"23\":0.1396280803,\"24\":0.0483641135,\"25\":0.0566231776,\"26\":0.0554652628,\"27\":0.0089415464,\"28\":0.0928969571,\"29\":0.04080061,\"30\":0.036955006,\"31\":0.1618675555,\"32\":0.0883088991,\"33\":0.1860142774,\"34\":0.1518443206,\"35\":0.0608770831,\"36\":0.0126809505,\"37\":0.1020621768,\"38\":0.0736265818,\"39\":0.0208033626,\"40\":0.069617514,\"41\":0.1304917389,\"42\":0.1610541394,\"43\":0.0596350031,\"44\":0.01896693,\"45\":0.0569617429,\"46\":0.0564868697,\"47\":0.0542306724,\"48\":0.1780279023,\"49\":0.0528957438,\"50\":0.1153025186,\"51\":0.0218453829,\"52\":0.0521716748,\"53\":0.0481293084,\"54\":0.0891366503,\"55\":0.0511247609,\"56\":0.0390032586,\"57\":0.0607655554,\"58\":0.1677483518,\"59\":0.0337551619,\"60\":0.1638113606,\"61\":0.1764438177,\"62\":0.1750456777,\"63\":0.1750456777,\"64\":0.1517606369,\"65\":0.122143509,\"66\":0.0414267445,\"67\":0.0917057898,\"68\":0.112239885,\"69\":0.0880937161,\"70\":0.0444797511,\"71\":0.0860316066,\"72\":0.0586721693,\"73\":0.152431014,\"74\":0.1645423547,\"75\":0.0907160139,\"76\":0.0090300716,\"77\":0.050344591,\"78\":0.0905422348,\"79\":0.1168472121,\"80\":0.1096360988,\"81\":0.0550481846,\"82\":0.0649966873,\"83\":0.0628797122,\"84\":0.0582247403,\"85\":0.0460063613,\"86\":0.121734113,\"87\":0.034791815,\"88\":0.0581045223,\"89\":0.0490113965,\"90\":0.109720631,\"91\":0.1251132157,\"92\":0.1608810351,\"93\":0.170463463,\"94\":0.0555827976,\"95\":0.149466882,\"96\":0.1029413745,\"97\":0.0010236314,\"98\":0.075899741,\"99\":0.0883263131}}'"
      ]
     },
     "execution_count": 16,
     "metadata": {},
     "output_type": "execute_result"
    }
   ],
   "source": [
    "r.json()"
   ]
  },
  {
   "cell_type": "code",
   "execution_count": null,
   "metadata": {},
   "outputs": [],
   "source": []
  }
 ],
 "metadata": {
  "kernelspec": {
   "display_name": "base",
   "language": "python",
   "name": "python3"
  },
  "language_info": {
   "codemirror_mode": {
    "name": "ipython",
    "version": 3
   },
   "file_extension": ".py",
   "mimetype": "text/x-python",
   "name": "python",
   "nbconvert_exporter": "python",
   "pygments_lexer": "ipython3",
   "version": "3.10.9"
  }
 },
 "nbformat": 4,
 "nbformat_minor": 2
}
