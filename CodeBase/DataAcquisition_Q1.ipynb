{
 "cells": [
  {
   "cell_type": "code",
   "execution_count": 1,
   "id": "63623887",
   "metadata": {},
   "outputs": [],
   "source": [
    "# Import necessary libraries and modules\n",
    "import requests\n",
    "import json\n",
    "import os\n",
    "from tqdm import tqdm"
   ]
  },
  {
   "cell_type": "code",
   "execution_count": 2,
   "id": "d432dced",
   "metadata": {},
   "outputs": [
    {
     "name": "stdout",
     "output_type": "stream",
     "text": [
      "Downloading regular season data for 2016-2017 season...\n"
     ]
    },
    {
     "name": "stderr",
     "output_type": "stream",
     "text": [
      "Regular Season: 100%|█████████████████████| 1230/1230 [04:25<00:00,  4.64game/s]\n"
     ]
    },
    {
     "name": "stdout",
     "output_type": "stream",
     "text": [
      "Finished downloading regular season data for 2016-2017 season!\n",
      "Downloading playoff data for 2016-2017 season...\n"
     ]
    },
    {
     "name": "stderr",
     "output_type": "stream",
     "text": [
      "Playoffs: 100%|█████████████████████████████| 224/224 [00:43<00:00,  5.12game/s]\n"
     ]
    },
    {
     "name": "stdout",
     "output_type": "stream",
     "text": [
      "Finished downloading playoff data for 2016-2017 season!\n",
      "Downloading regular season data for 2017-2018 season...\n"
     ]
    },
    {
     "name": "stderr",
     "output_type": "stream",
     "text": [
      "Regular Season: 100%|█████████████████████| 1271/1271 [04:40<00:00,  4.53game/s]\n"
     ]
    },
    {
     "name": "stdout",
     "output_type": "stream",
     "text": [
      "Finished downloading regular season data for 2017-2018 season!\n",
      "Downloading playoff data for 2017-2018 season...\n"
     ]
    },
    {
     "name": "stderr",
     "output_type": "stream",
     "text": [
      "Playoffs: 100%|█████████████████████████████| 224/224 [00:41<00:00,  5.43game/s]\n"
     ]
    },
    {
     "name": "stdout",
     "output_type": "stream",
     "text": [
      "Finished downloading playoff data for 2017-2018 season!\n",
      "Downloading regular season data for 2018-2019 season...\n"
     ]
    },
    {
     "name": "stderr",
     "output_type": "stream",
     "text": [
      "Regular Season: 100%|█████████████████████| 1271/1271 [04:41<00:00,  4.52game/s]\n"
     ]
    },
    {
     "name": "stdout",
     "output_type": "stream",
     "text": [
      "Finished downloading regular season data for 2018-2019 season!\n",
      "Downloading playoff data for 2018-2019 season...\n"
     ]
    },
    {
     "name": "stderr",
     "output_type": "stream",
     "text": [
      "Playoffs: 100%|█████████████████████████████| 224/224 [00:42<00:00,  5.31game/s]\n"
     ]
    },
    {
     "name": "stdout",
     "output_type": "stream",
     "text": [
      "Finished downloading playoff data for 2018-2019 season!\n",
      "Downloading regular season data for 2019-2020 season...\n"
     ]
    },
    {
     "name": "stderr",
     "output_type": "stream",
     "text": [
      "Regular Season: 100%|█████████████████████| 1271/1271 [04:38<00:00,  4.56game/s]\n"
     ]
    },
    {
     "name": "stdout",
     "output_type": "stream",
     "text": [
      "Finished downloading regular season data for 2019-2020 season!\n",
      "Downloading playoff data for 2019-2020 season...\n"
     ]
    },
    {
     "name": "stderr",
     "output_type": "stream",
     "text": [
      "Playoffs: 100%|█████████████████████████████| 224/224 [00:48<00:00,  4.61game/s]\n"
     ]
    },
    {
     "name": "stdout",
     "output_type": "stream",
     "text": [
      "Finished downloading playoff data for 2019-2020 season!\n",
      "Downloading regular season data for 2020-2021 season...\n"
     ]
    },
    {
     "name": "stderr",
     "output_type": "stream",
     "text": [
      "Regular Season: 100%|█████████████████████| 1271/1271 [04:24<00:00,  4.81game/s]\n"
     ]
    },
    {
     "name": "stdout",
     "output_type": "stream",
     "text": [
      "Finished downloading regular season data for 2020-2021 season!\n",
      "Downloading playoff data for 2020-2021 season...\n"
     ]
    },
    {
     "name": "stderr",
     "output_type": "stream",
     "text": [
      "Playoffs: 100%|█████████████████████████████| 224/224 [00:41<00:00,  5.43game/s]"
     ]
    },
    {
     "name": "stdout",
     "output_type": "stream",
     "text": [
      "Finished downloading playoff data for 2020-2021 season!\n",
      "All done!\n"
     ]
    },
    {
     "name": "stderr",
     "output_type": "stream",
     "text": [
      "\n"
     ]
    }
   ],
   "source": [
    "# The base URL and output directory\n",
    "BASE_URL = \"https://statsapi.web.nhl.com/api/v1/game/{}/feed/live/\"\n",
    "OUTPUT_DIR = \"nhl_data\"\n",
    "\n",
    "# Ensure the output directories exist\n",
    "if not os.path.exists(OUTPUT_DIR):\n",
    "    os.makedirs(OUTPUT_DIR)\n",
    "\n",
    "\n",
    "def generate_game_ids(season, playoffs=False):\n",
    "    \"\"\"\n",
    "    Generate game IDs based on the given NHL season and whether it's for playoffs or regular season.\n",
    "\n",
    "    Parameters:\n",
    "    - season (int): The year of the NHL season. \n",
    "    - playoffs (bool): Whether the IDs are for playoffs. Default is False (for regular season).\n",
    "\n",
    "    Returns:\n",
    "    - list of str: A list of game IDs for the specified season and type (playoffs or regular season).\n",
    "    \"\"\"\n",
    "    \n",
    "    ids = []\n",
    "\n",
    "    # Determine the number of games based on teams in the season\n",
    "    if season == 2016:\n",
    "        total_games = 1230  # 30 teams\n",
    "    elif 2016 < season <= 2020:\n",
    "        total_games = 1271  # 31 teams\n",
    "    else:\n",
    "        total_games = 1353  # 32 teams\n",
    "\n",
    "    # Regular season game IDs\n",
    "    if not playoffs:\n",
    "        for game_num in range(1, total_games + 1):\n",
    "            ids.append(f\"{season}02{game_num:04d}\")\n",
    "    else:\n",
    "        # Playoffs IDs\n",
    "        for round_num in range(1, 5):  # There are 4 rounds in playoffs\n",
    "            for matchup_num in range(1, 9):  # 8 matchups per round\n",
    "                for game_num in range(1, 8):  # Max 7 games per matchup\n",
    "                    ids.append(f\"{season}030{round_num}{matchup_num}{game_num}\")\n",
    "\n",
    "    return ids\n",
    "\n",
    "\n",
    "def download_data(game_id, playoffs=False):\n",
    "    \"\"\"\n",
    "    Download game data using the given game ID and save it as a JSON file.\n",
    "\n",
    "    Parameters:\n",
    "    - game_id (str): The game ID for which data is to be downloaded.\n",
    "    - playoffs (bool): Whether the game is a playoff game. Default is False (for regular season).\n",
    "\n",
    "    Returns:\n",
    "    None\n",
    "    \"\"\"\n",
    "    \n",
    "    response = requests.get(BASE_URL.format(game_id))\n",
    "    if response.status_code == 200:\n",
    "        if not playoffs:\n",
    "            output_dir = OUTPUT_DIR\n",
    "        else:\n",
    "            output_dir = OUTPUT_DIR\n",
    "        with open(f\"{output_dir}/{game_id}.json\", 'w') as f:\n",
    "            json.dump(response.json(), f)\n",
    "\n",
    "\n",
    "if __name__ == \"__main__\":\n",
    "    # Iterate over the desired seasons\n",
    "    for season in range(2016, 2021):\n",
    "        print(f\"Downloading regular season data for {season}-{season+1} season...\")\n",
    "\n",
    "        # Added tqdm to the loop for progress bar visualization\n",
    "        for game_id in tqdm(generate_game_ids(season, playoffs=False), desc=\"Regular Season\", unit=\"game\"):\n",
    "            download_data(game_id, playoffs=False)\n",
    "\n",
    "        print(f\"Finished downloading regular season data for {season}-{season+1} season!\")\n",
    "\n",
    "        print(f\"Downloading playoff data for {season}-{season+1} season...\")\n",
    "\n",
    "        for game_id in tqdm(generate_game_ids(season, playoffs=True), desc=\"Playoffs\", unit=\"game\"):\n",
    "            download_data(game_id, playoffs=True)\n",
    "\n",
    "        print(f\"Finished downloading playoff data for {season}-{season+1} season!\")\n",
    "\n",
    "print(\"All done!\")"
   ]
  }
 ],
 "metadata": {
  "kernelspec": {
   "display_name": "Python 3 (ipykernel)",
   "language": "python",
   "name": "python3"
  },
  "language_info": {
   "codemirror_mode": {
    "name": "ipython",
    "version": 3
   },
   "file_extension": ".py",
   "mimetype": "text/x-python",
   "name": "python",
   "nbconvert_exporter": "python",
   "pygments_lexer": "ipython3",
   "version": "3.10.9"
  }
 },
 "nbformat": 4,
 "nbformat_minor": 5
}
