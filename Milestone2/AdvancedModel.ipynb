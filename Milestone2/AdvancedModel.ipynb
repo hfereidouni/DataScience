{
 "cells": [
  {
   "cell_type": "code",
   "execution_count": 123,
   "id": "a074b179-2c0d-4aef-97ab-70db56c52022",
   "metadata": {},
   "outputs": [],
   "source": [
    "import math\n",
    "import os\n",
    "import ast\n",
    "import numpy as np\n",
    "import pandas as pd\n",
    "import matplotlib.pyplot as plt\n",
    "import seaborn as sns\n",
    "from tqdm import tqdm\n",
    "from DataTidy import json_reader, read_a_season, read_seasons, read_all_game\n",
    "\n",
    "from joblib import dump, load"
   ]
  },
  {
   "cell_type": "code",
   "execution_count": 105,
   "metadata": {},
   "outputs": [
    {
     "name": "stderr",
     "output_type": "stream",
     "text": [
      "\u001b[1;38;5;214mCOMET WARNING:\u001b[0m To get all data logged automatically, import comet_ml before the following modules: xgboost, sklearn.\n",
      "\u001b[1;38;5;214mCOMET WARNING:\u001b[0m As you are running in a Jupyter environment, you will need to call `experiment.end()` when finished to ensure all metrics and code are logged before exiting.\n",
      "\u001b[1;38;5;39mCOMET INFO:\u001b[0m Experiment is live on comet.com https://www.comet.com/hfereidouni/ift6758/4aadc5f7d8dd4fbdb0d667838a440bea\n",
      "\n"
     ]
    }
   ],
   "source": [
    "experiment = Experiment(\n",
    "    api_key=\"v5q8O8LftZtvOcoXlVM8Ku8fH\",\n",
    "    project_name=\"ift6758\",\n",
    "    workspace=\"hfereidouni\",\n",
    ")\n"
   ]
  },
  {
   "cell_type": "code",
   "execution_count": 2,
   "id": "0b0666ee-5f52-4827-b815-05b685e982b2",
   "metadata": {},
   "outputs": [
    {
     "name": "stderr",
     "output_type": "stream",
     "text": [
      "100%|██████████| 6433/6433 [00:47<00:00, 134.61it/s]\n",
      "100%|██████████| 6433/6433 [00:54<00:00, 117.22it/s]  \n",
      "100%|██████████| 6433/6433 [00:54<00:00, 118.95it/s]  \n",
      "100%|██████████| 6433/6433 [00:53<00:00, 119.24it/s]  \n"
     ]
    }
   ],
   "source": [
    "if not os.path.exists(\"csv\"):\n",
    "    os.makedirs(\"csv\")\n",
    "for year in [2016, 2017, 2018, 2019]: # 2020 has been excluded to be reserved as the test set\n",
    "    read_a_season(\"../nhl_data/\",year).to_csv('csv/tidy_{season}.csv'.format(season = year), sep = ',', index = False)"
   ]
  },
  {
   "cell_type": "markdown",
   "id": "4b23c271-85bc-4481-8d66-3563821cee60",
   "metadata": {},
   "source": [
    "### Consolidating and Sorting CSV Files into a Unified DataFrame"
   ]
  },
  {
   "cell_type": "code",
   "execution_count": 125,
   "id": "1a89b2c3-3673-4212-8f9a-1c20c6f95507",
   "metadata": {},
   "outputs": [
    {
     "name": "stderr",
     "output_type": "stream",
     "text": [
      "Loading files: 100%|██████████| 4/4 [00:00<00:00,  4.50file/s]\n"
     ]
    }
   ],
   "source": [
    "directory = 'csv'\n",
    "\n",
    "# Get a list of csv file names within the directory\n",
    "csv_files = [f for f in os.listdir(directory) if f.endswith('.csv')]\n",
    "\n",
    "# Sort the list of csv files\n",
    "csv_files.sort()\n",
    "\n",
    "# List to hold your DataFrames\n",
    "dataframes_list = []\n",
    "\n",
    "# Loop over the sorted list of csv files with tqdm for progress indication\n",
    "for filename in tqdm(csv_files, desc=\"Loading files\", unit=\"file\"):\n",
    "    file_path = os.path.join(directory, filename)\n",
    "    df = pd.read_csv(file_path)\n",
    "    dataframes_list.append(df)\n",
    "\n",
    "# Concatenate all the DataFrames in the list into a single DataFrame\n",
    "train_val_df = pd.concat(dataframes_list, ignore_index=True)\n",
    "\n",
    "# Sort the DataFrame first by 'game_id' and then by 'event_idx'\n",
    "train_val_df =train_val_df .sort_values(by=['game_id', 'event_idx'])\n",
    "\n",
    "# Reset the index of the sorted DataFrame\n",
    "train_val_df = train_val_df .reset_index(drop=True)"
   ]
  },
  {
   "cell_type": "code",
   "execution_count": 126,
   "metadata": {},
   "outputs": [
    {
     "data": {
      "text/html": [
       "<div>\n",
       "<style scoped>\n",
       "    .dataframe tbody tr th:only-of-type {\n",
       "        vertical-align: middle;\n",
       "    }\n",
       "\n",
       "    .dataframe tbody tr th {\n",
       "        vertical-align: top;\n",
       "    }\n",
       "\n",
       "    .dataframe thead th {\n",
       "        text-align: right;\n",
       "    }\n",
       "</style>\n",
       "<table border=\"1\" class=\"dataframe\">\n",
       "  <thead>\n",
       "    <tr style=\"text-align: right;\">\n",
       "      <th></th>\n",
       "      <th>game_id</th>\n",
       "      <th>event_idx</th>\n",
       "      <th>play_type</th>\n",
       "      <th>shot_type</th>\n",
       "      <th>shot_dist</th>\n",
       "      <th>game_time</th>\n",
       "      <th>goals_home</th>\n",
       "      <th>goals_away</th>\n",
       "      <th>attack_team_name</th>\n",
       "      <th>period</th>\n",
       "      <th>period_time_rem</th>\n",
       "      <th>coordinate</th>\n",
       "      <th>shooter_name</th>\n",
       "      <th>goalie_name</th>\n",
       "      <th>empty_Net</th>\n",
       "      <th>strength</th>\n",
       "      <th>rink_side</th>\n",
       "      <th>angle_net</th>\n",
       "      <th>is_goal</th>\n",
       "    </tr>\n",
       "  </thead>\n",
       "  <tbody>\n",
       "    <tr>\n",
       "      <th>0</th>\n",
       "      <td>2016020001</td>\n",
       "      <td>9</td>\n",
       "      <td>Shot</td>\n",
       "      <td>Wrist Shot</td>\n",
       "      <td>13.000000</td>\n",
       "      <td>2016-10-12T23:00:00Z</td>\n",
       "      <td>0</td>\n",
       "      <td>0</td>\n",
       "      <td>Toronto Maple Leafs</td>\n",
       "      <td>1</td>\n",
       "      <td>18:49</td>\n",
       "      <td>{'x': -77.0, 'y': 5.0}</td>\n",
       "      <td>Mitchell Marner</td>\n",
       "      <td>Craig Anderson</td>\n",
       "      <td>NaN</td>\n",
       "      <td>NaN</td>\n",
       "      <td>right</td>\n",
       "      <td>-22.619865</td>\n",
       "      <td>0</td>\n",
       "    </tr>\n",
       "    <tr>\n",
       "      <th>1</th>\n",
       "      <td>2016020001</td>\n",
       "      <td>16</td>\n",
       "      <td>Shot</td>\n",
       "      <td>Wrist Shot</td>\n",
       "      <td>13.341664</td>\n",
       "      <td>2016-10-12T23:00:00Z</td>\n",
       "      <td>0</td>\n",
       "      <td>0</td>\n",
       "      <td>Ottawa Senators</td>\n",
       "      <td>1</td>\n",
       "      <td>17:07</td>\n",
       "      <td>{'x': 86.0, 'y': 13.0}</td>\n",
       "      <td>Chris Kelly</td>\n",
       "      <td>Frederik Andersen</td>\n",
       "      <td>NaN</td>\n",
       "      <td>NaN</td>\n",
       "      <td>left</td>\n",
       "      <td>77.005383</td>\n",
       "      <td>0</td>\n",
       "    </tr>\n",
       "    <tr>\n",
       "      <th>2</th>\n",
       "      <td>2016020001</td>\n",
       "      <td>23</td>\n",
       "      <td>Shot</td>\n",
       "      <td>Wrist Shot</td>\n",
       "      <td>76.157731</td>\n",
       "      <td>2016-10-12T23:00:00Z</td>\n",
       "      <td>0</td>\n",
       "      <td>0</td>\n",
       "      <td>Ottawa Senators</td>\n",
       "      <td>1</td>\n",
       "      <td>15:59</td>\n",
       "      <td>{'x': 23.0, 'y': -38.0}</td>\n",
       "      <td>Cody Ceci</td>\n",
       "      <td>Frederik Andersen</td>\n",
       "      <td>NaN</td>\n",
       "      <td>NaN</td>\n",
       "      <td>left</td>\n",
       "      <td>-29.931512</td>\n",
       "      <td>0</td>\n",
       "    </tr>\n",
       "    <tr>\n",
       "      <th>3</th>\n",
       "      <td>2016020001</td>\n",
       "      <td>25</td>\n",
       "      <td>Shot</td>\n",
       "      <td>Slap Shot</td>\n",
       "      <td>57.974132</td>\n",
       "      <td>2016-10-12T23:00:00Z</td>\n",
       "      <td>0</td>\n",
       "      <td>0</td>\n",
       "      <td>Ottawa Senators</td>\n",
       "      <td>1</td>\n",
       "      <td>15:14</td>\n",
       "      <td>{'x': 33.0, 'y': -15.0}</td>\n",
       "      <td>Erik Karlsson</td>\n",
       "      <td>Frederik Andersen</td>\n",
       "      <td>NaN</td>\n",
       "      <td>NaN</td>\n",
       "      <td>left</td>\n",
       "      <td>-14.995079</td>\n",
       "      <td>0</td>\n",
       "    </tr>\n",
       "    <tr>\n",
       "      <th>4</th>\n",
       "      <td>2016020001</td>\n",
       "      <td>38</td>\n",
       "      <td>Shot</td>\n",
       "      <td>Wrist Shot</td>\n",
       "      <td>61.717096</td>\n",
       "      <td>2016-10-12T23:00:00Z</td>\n",
       "      <td>0</td>\n",
       "      <td>0</td>\n",
       "      <td>Toronto Maple Leafs</td>\n",
       "      <td>1</td>\n",
       "      <td>13:14</td>\n",
       "      <td>{'x': -34.0, 'y': 28.0}</td>\n",
       "      <td>Martin Marincin</td>\n",
       "      <td>Craig Anderson</td>\n",
       "      <td>NaN</td>\n",
       "      <td>NaN</td>\n",
       "      <td>right</td>\n",
       "      <td>-26.980231</td>\n",
       "      <td>0</td>\n",
       "    </tr>\n",
       "    <tr>\n",
       "      <th>5</th>\n",
       "      <td>2016020001</td>\n",
       "      <td>40</td>\n",
       "      <td>Shot</td>\n",
       "      <td>Wrist Shot</td>\n",
       "      <td>58.523500</td>\n",
       "      <td>2016-10-12T23:00:00Z</td>\n",
       "      <td>0</td>\n",
       "      <td>0</td>\n",
       "      <td>Toronto Maple Leafs</td>\n",
       "      <td>1</td>\n",
       "      <td>12:30</td>\n",
       "      <td>{'x': -33.0, 'y': -17.0}</td>\n",
       "      <td>Mitchell Marner</td>\n",
       "      <td>Craig Anderson</td>\n",
       "      <td>NaN</td>\n",
       "      <td>NaN</td>\n",
       "      <td>right</td>\n",
       "      <td>16.886791</td>\n",
       "      <td>0</td>\n",
       "    </tr>\n",
       "    <tr>\n",
       "      <th>6</th>\n",
       "      <td>2016020001</td>\n",
       "      <td>43</td>\n",
       "      <td>Goal</td>\n",
       "      <td>Wrist Shot</td>\n",
       "      <td>19.026298</td>\n",
       "      <td>2016-10-12T23:00:00Z</td>\n",
       "      <td>0</td>\n",
       "      <td>1</td>\n",
       "      <td>Toronto Maple Leafs</td>\n",
       "      <td>1</td>\n",
       "      <td>11:39</td>\n",
       "      <td>{'x': -70.0, 'y': 1.0}</td>\n",
       "      <td>Auston Matthews</td>\n",
       "      <td>Craig Anderson</td>\n",
       "      <td>False</td>\n",
       "      <td>EVEN</td>\n",
       "      <td>right</td>\n",
       "      <td>-3.012788</td>\n",
       "      <td>1</td>\n",
       "    </tr>\n",
       "    <tr>\n",
       "      <th>7</th>\n",
       "      <td>2016020001</td>\n",
       "      <td>45</td>\n",
       "      <td>Shot</td>\n",
       "      <td>Wrist Shot</td>\n",
       "      <td>56.850682</td>\n",
       "      <td>2016-10-12T23:00:00Z</td>\n",
       "      <td>0</td>\n",
       "      <td>1</td>\n",
       "      <td>Toronto Maple Leafs</td>\n",
       "      <td>1</td>\n",
       "      <td>11:31</td>\n",
       "      <td>{'x': -45.0, 'y': -36.0}</td>\n",
       "      <td>Matt Martin</td>\n",
       "      <td>Craig Anderson</td>\n",
       "      <td>NaN</td>\n",
       "      <td>NaN</td>\n",
       "      <td>right</td>\n",
       "      <td>39.289407</td>\n",
       "      <td>0</td>\n",
       "    </tr>\n",
       "    <tr>\n",
       "      <th>8</th>\n",
       "      <td>2016020001</td>\n",
       "      <td>48</td>\n",
       "      <td>Shot</td>\n",
       "      <td>Slap Shot</td>\n",
       "      <td>58.821765</td>\n",
       "      <td>2016-10-12T23:00:00Z</td>\n",
       "      <td>0</td>\n",
       "      <td>1</td>\n",
       "      <td>Ottawa Senators</td>\n",
       "      <td>1</td>\n",
       "      <td>11:00</td>\n",
       "      <td>{'x': 33.0, 'y': -18.0}</td>\n",
       "      <td>Erik Karlsson</td>\n",
       "      <td>Frederik Andersen</td>\n",
       "      <td>NaN</td>\n",
       "      <td>NaN</td>\n",
       "      <td>left</td>\n",
       "      <td>-17.818889</td>\n",
       "      <td>0</td>\n",
       "    </tr>\n",
       "    <tr>\n",
       "      <th>9</th>\n",
       "      <td>2016020001</td>\n",
       "      <td>59</td>\n",
       "      <td>Shot</td>\n",
       "      <td>Wrist Shot</td>\n",
       "      <td>58.523500</td>\n",
       "      <td>2016-10-12T23:00:00Z</td>\n",
       "      <td>0</td>\n",
       "      <td>1</td>\n",
       "      <td>Ottawa Senators</td>\n",
       "      <td>1</td>\n",
       "      <td>09:44</td>\n",
       "      <td>{'x': 34.0, 'y': 20.0}</td>\n",
       "      <td>Erik Karlsson</td>\n",
       "      <td>Frederik Andersen</td>\n",
       "      <td>NaN</td>\n",
       "      <td>NaN</td>\n",
       "      <td>left</td>\n",
       "      <td>19.983107</td>\n",
       "      <td>0</td>\n",
       "    </tr>\n",
       "  </tbody>\n",
       "</table>\n",
       "</div>"
      ],
      "text/plain": [
       "      game_id  event_idx play_type   shot_type  shot_dist  \\\n",
       "0  2016020001          9      Shot  Wrist Shot  13.000000   \n",
       "1  2016020001         16      Shot  Wrist Shot  13.341664   \n",
       "2  2016020001         23      Shot  Wrist Shot  76.157731   \n",
       "3  2016020001         25      Shot   Slap Shot  57.974132   \n",
       "4  2016020001         38      Shot  Wrist Shot  61.717096   \n",
       "5  2016020001         40      Shot  Wrist Shot  58.523500   \n",
       "6  2016020001         43      Goal  Wrist Shot  19.026298   \n",
       "7  2016020001         45      Shot  Wrist Shot  56.850682   \n",
       "8  2016020001         48      Shot   Slap Shot  58.821765   \n",
       "9  2016020001         59      Shot  Wrist Shot  58.523500   \n",
       "\n",
       "              game_time  goals_home  goals_away     attack_team_name  period  \\\n",
       "0  2016-10-12T23:00:00Z           0           0  Toronto Maple Leafs       1   \n",
       "1  2016-10-12T23:00:00Z           0           0      Ottawa Senators       1   \n",
       "2  2016-10-12T23:00:00Z           0           0      Ottawa Senators       1   \n",
       "3  2016-10-12T23:00:00Z           0           0      Ottawa Senators       1   \n",
       "4  2016-10-12T23:00:00Z           0           0  Toronto Maple Leafs       1   \n",
       "5  2016-10-12T23:00:00Z           0           0  Toronto Maple Leafs       1   \n",
       "6  2016-10-12T23:00:00Z           0           1  Toronto Maple Leafs       1   \n",
       "7  2016-10-12T23:00:00Z           0           1  Toronto Maple Leafs       1   \n",
       "8  2016-10-12T23:00:00Z           0           1      Ottawa Senators       1   \n",
       "9  2016-10-12T23:00:00Z           0           1      Ottawa Senators       1   \n",
       "\n",
       "  period_time_rem                coordinate     shooter_name  \\\n",
       "0           18:49    {'x': -77.0, 'y': 5.0}  Mitchell Marner   \n",
       "1           17:07    {'x': 86.0, 'y': 13.0}      Chris Kelly   \n",
       "2           15:59   {'x': 23.0, 'y': -38.0}        Cody Ceci   \n",
       "3           15:14   {'x': 33.0, 'y': -15.0}    Erik Karlsson   \n",
       "4           13:14   {'x': -34.0, 'y': 28.0}  Martin Marincin   \n",
       "5           12:30  {'x': -33.0, 'y': -17.0}  Mitchell Marner   \n",
       "6           11:39    {'x': -70.0, 'y': 1.0}  Auston Matthews   \n",
       "7           11:31  {'x': -45.0, 'y': -36.0}      Matt Martin   \n",
       "8           11:00   {'x': 33.0, 'y': -18.0}    Erik Karlsson   \n",
       "9           09:44    {'x': 34.0, 'y': 20.0}    Erik Karlsson   \n",
       "\n",
       "         goalie_name empty_Net strength rink_side  angle_net  is_goal  \n",
       "0     Craig Anderson       NaN      NaN     right -22.619865        0  \n",
       "1  Frederik Andersen       NaN      NaN      left  77.005383        0  \n",
       "2  Frederik Andersen       NaN      NaN      left -29.931512        0  \n",
       "3  Frederik Andersen       NaN      NaN      left -14.995079        0  \n",
       "4     Craig Anderson       NaN      NaN     right -26.980231        0  \n",
       "5     Craig Anderson       NaN      NaN     right  16.886791        0  \n",
       "6     Craig Anderson     False     EVEN     right  -3.012788        1  \n",
       "7     Craig Anderson       NaN      NaN     right  39.289407        0  \n",
       "8  Frederik Andersen       NaN      NaN      left -17.818889        0  \n",
       "9  Frederik Andersen       NaN      NaN      left  19.983107        0  "
      ]
     },
     "execution_count": 126,
     "metadata": {},
     "output_type": "execute_result"
    }
   ],
   "source": [
    "train_val_df.head(10)"
   ]
  },
  {
   "cell_type": "code",
   "execution_count": 127,
   "id": "daf1bcfe-cb76-4c26-9a31-d265328621af",
   "metadata": {},
   "outputs": [],
   "source": [
    "from sklearn import metrics\n",
    "from sklearn.model_selection import train_test_split\n",
    "from xgboost import XGBClassifier\n",
    "from sklearn.calibration import CalibrationDisplay"
   ]
  },
  {
   "cell_type": "markdown",
   "id": "ab64a7ac-cc86-4577-8f67-08d087591af1",
   "metadata": {},
   "source": [
    "### Training and Validation sets split"
   ]
  },
  {
   "cell_type": "code",
   "execution_count": 162,
   "id": "775a1041-012e-4461-a716-c8d4968af1fc",
   "metadata": {},
   "outputs": [],
   "source": [
    "train_df, val_df = train_test_split(train_val_df, test_size=0.25,random_state=0)"
   ]
  },
  {
   "cell_type": "markdown",
   "id": "7782c467-cf02-4a1e-98a8-1df18f694777",
   "metadata": {},
   "source": [
    "### 1. Train with only **Distance** and **Angle**"
   ]
  },
  {
   "cell_type": "markdown",
   "id": "50eb765c-6ddc-4551-ab55-08b7e00aedde",
   "metadata": {},
   "source": [
    "#### 1.1 Training and Validating"
   ]
  },
  {
   "cell_type": "code",
   "execution_count": 163,
   "id": "1dec152f-7843-4c69-90de-893ec6ccab6d",
   "metadata": {},
   "outputs": [],
   "source": [
    "train_df_1 = train_df[['shot_dist','angle_net','is_goal']]\n",
    "val_df_1 = val_df[['shot_dist','angle_net','is_goal']]\n",
    "train_df_1=train_df_1.dropna()\n",
    "val_df_1=val_df_1.dropna()"
   ]
  },
  {
   "cell_type": "code",
   "execution_count": 164,
   "id": "97167fad-d487-416e-b2be-f0b9cc6d3a3a",
   "metadata": {},
   "outputs": [
    {
     "data": {
      "text/html": [
       "<div>\n",
       "<style scoped>\n",
       "    .dataframe tbody tr th:only-of-type {\n",
       "        vertical-align: middle;\n",
       "    }\n",
       "\n",
       "    .dataframe tbody tr th {\n",
       "        vertical-align: top;\n",
       "    }\n",
       "\n",
       "    .dataframe thead th {\n",
       "        text-align: right;\n",
       "    }\n",
       "</style>\n",
       "<table border=\"1\" class=\"dataframe\">\n",
       "  <thead>\n",
       "    <tr style=\"text-align: right;\">\n",
       "      <th></th>\n",
       "      <th>shot_dist</th>\n",
       "      <th>angle_net</th>\n",
       "    </tr>\n",
       "  </thead>\n",
       "  <tbody>\n",
       "    <tr>\n",
       "      <th>317091</th>\n",
       "      <td>33.421550</td>\n",
       "      <td>-51.000000</td>\n",
       "    </tr>\n",
       "    <tr>\n",
       "      <th>58315</th>\n",
       "      <td>10.295630</td>\n",
       "      <td>29.054604</td>\n",
       "    </tr>\n",
       "    <tr>\n",
       "      <th>279578</th>\n",
       "      <td>10.295630</td>\n",
       "      <td>-60.000000</td>\n",
       "    </tr>\n",
       "    <tr>\n",
       "      <th>283640</th>\n",
       "      <td>147.013605</td>\n",
       "      <td>0.000000</td>\n",
       "    </tr>\n",
       "    <tr>\n",
       "      <th>17071</th>\n",
       "      <td>57.008771</td>\n",
       "      <td>21.614779</td>\n",
       "    </tr>\n",
       "    <tr>\n",
       "      <th>...</th>\n",
       "      <td>...</td>\n",
       "      <td>...</td>\n",
       "    </tr>\n",
       "    <tr>\n",
       "      <th>122579</th>\n",
       "      <td>55.081757</td>\n",
       "      <td>-15.000000</td>\n",
       "    </tr>\n",
       "    <tr>\n",
       "      <th>304137</th>\n",
       "      <td>40.459857</td>\n",
       "      <td>-39.000000</td>\n",
       "    </tr>\n",
       "    <tr>\n",
       "      <th>152315</th>\n",
       "      <td>55.326305</td>\n",
       "      <td>-6.000000</td>\n",
       "    </tr>\n",
       "    <tr>\n",
       "      <th>117952</th>\n",
       "      <td>31.953091</td>\n",
       "      <td>-20.000000</td>\n",
       "    </tr>\n",
       "    <tr>\n",
       "      <th>305711</th>\n",
       "      <td>24.515301</td>\n",
       "      <td>-11.000000</td>\n",
       "    </tr>\n",
       "  </tbody>\n",
       "</table>\n",
       "<p>237000 rows × 2 columns</p>\n",
       "</div>"
      ],
      "text/plain": [
       "         shot_dist  angle_net\n",
       "317091   33.421550 -51.000000\n",
       "58315    10.295630  29.054604\n",
       "279578   10.295630 -60.000000\n",
       "283640  147.013605   0.000000\n",
       "17071    57.008771  21.614779\n",
       "...            ...        ...\n",
       "122579   55.081757 -15.000000\n",
       "304137   40.459857 -39.000000\n",
       "152315   55.326305  -6.000000\n",
       "117952   31.953091 -20.000000\n",
       "305711   24.515301 -11.000000\n",
       "\n",
       "[237000 rows x 2 columns]"
      ]
     },
     "execution_count": 164,
     "metadata": {},
     "output_type": "execute_result"
    }
   ],
   "source": [
    "train_X_1 = train_df_1[['shot_dist','angle_net']]\n",
    "val_X_1 =  val_df_1[['shot_dist','angle_net']]\n",
    "train_Y = train_df_1[['is_goal']]\n",
    "val_Y =  val_df_1[['is_goal']]\n",
    "train_X_1"
   ]
  },
  {
   "cell_type": "code",
   "execution_count": 165,
   "id": "80a35257-69fa-4458-8ce9-c9e9c222a1c4",
   "metadata": {},
   "outputs": [
    {
     "data": {
      "text/html": [
       "<style>#sk-container-id-10 {color: black;}#sk-container-id-10 pre{padding: 0;}#sk-container-id-10 div.sk-toggleable {background-color: white;}#sk-container-id-10 label.sk-toggleable__label {cursor: pointer;display: block;width: 100%;margin-bottom: 0;padding: 0.3em;box-sizing: border-box;text-align: center;}#sk-container-id-10 label.sk-toggleable__label-arrow:before {content: \"▸\";float: left;margin-right: 0.25em;color: #696969;}#sk-container-id-10 label.sk-toggleable__label-arrow:hover:before {color: black;}#sk-container-id-10 div.sk-estimator:hover label.sk-toggleable__label-arrow:before {color: black;}#sk-container-id-10 div.sk-toggleable__content {max-height: 0;max-width: 0;overflow: hidden;text-align: left;background-color: #f0f8ff;}#sk-container-id-10 div.sk-toggleable__content pre {margin: 0.2em;color: black;border-radius: 0.25em;background-color: #f0f8ff;}#sk-container-id-10 input.sk-toggleable__control:checked~div.sk-toggleable__content {max-height: 200px;max-width: 100%;overflow: auto;}#sk-container-id-10 input.sk-toggleable__control:checked~label.sk-toggleable__label-arrow:before {content: \"▾\";}#sk-container-id-10 div.sk-estimator input.sk-toggleable__control:checked~label.sk-toggleable__label {background-color: #d4ebff;}#sk-container-id-10 div.sk-label input.sk-toggleable__control:checked~label.sk-toggleable__label {background-color: #d4ebff;}#sk-container-id-10 input.sk-hidden--visually {border: 0;clip: rect(1px 1px 1px 1px);clip: rect(1px, 1px, 1px, 1px);height: 1px;margin: -1px;overflow: hidden;padding: 0;position: absolute;width: 1px;}#sk-container-id-10 div.sk-estimator {font-family: monospace;background-color: #f0f8ff;border: 1px dotted black;border-radius: 0.25em;box-sizing: border-box;margin-bottom: 0.5em;}#sk-container-id-10 div.sk-estimator:hover {background-color: #d4ebff;}#sk-container-id-10 div.sk-parallel-item::after {content: \"\";width: 100%;border-bottom: 1px solid gray;flex-grow: 1;}#sk-container-id-10 div.sk-label:hover label.sk-toggleable__label {background-color: #d4ebff;}#sk-container-id-10 div.sk-serial::before {content: \"\";position: absolute;border-left: 1px solid gray;box-sizing: border-box;top: 0;bottom: 0;left: 50%;z-index: 0;}#sk-container-id-10 div.sk-serial {display: flex;flex-direction: column;align-items: center;background-color: white;padding-right: 0.2em;padding-left: 0.2em;position: relative;}#sk-container-id-10 div.sk-item {position: relative;z-index: 1;}#sk-container-id-10 div.sk-parallel {display: flex;align-items: stretch;justify-content: center;background-color: white;position: relative;}#sk-container-id-10 div.sk-item::before, #sk-container-id-10 div.sk-parallel-item::before {content: \"\";position: absolute;border-left: 1px solid gray;box-sizing: border-box;top: 0;bottom: 0;left: 50%;z-index: -1;}#sk-container-id-10 div.sk-parallel-item {display: flex;flex-direction: column;z-index: 1;position: relative;background-color: white;}#sk-container-id-10 div.sk-parallel-item:first-child::after {align-self: flex-end;width: 50%;}#sk-container-id-10 div.sk-parallel-item:last-child::after {align-self: flex-start;width: 50%;}#sk-container-id-10 div.sk-parallel-item:only-child::after {width: 0;}#sk-container-id-10 div.sk-dashed-wrapped {border: 1px dashed gray;margin: 0 0.4em 0.5em 0.4em;box-sizing: border-box;padding-bottom: 0.4em;background-color: white;}#sk-container-id-10 div.sk-label label {font-family: monospace;font-weight: bold;display: inline-block;line-height: 1.2em;}#sk-container-id-10 div.sk-label-container {text-align: center;}#sk-container-id-10 div.sk-container {/* jupyter's `normalize.less` sets `[hidden] { display: none; }` but bootstrap.min.css set `[hidden] { display: none !important; }` so we also need the `!important` here to be able to override the default hidden behavior on the sphinx rendered scikit-learn.org. See: https://github.com/scikit-learn/scikit-learn/issues/21755 */display: inline-block !important;position: relative;}#sk-container-id-10 div.sk-text-repr-fallback {display: none;}</style><div id=\"sk-container-id-10\" class=\"sk-top-container\"><div class=\"sk-text-repr-fallback\"><pre>XGBClassifier(base_score=None, booster=None, callbacks=None,\n",
       "              colsample_bylevel=None, colsample_bynode=None,\n",
       "              colsample_bytree=None, device=None, early_stopping_rounds=None,\n",
       "              enable_categorical=False, eval_metric=None, feature_types=None,\n",
       "              gamma=None, grow_policy=None, importance_type=None,\n",
       "              interaction_constraints=None, learning_rate=None, max_bin=None,\n",
       "              max_cat_threshold=None, max_cat_to_onehot=None,\n",
       "              max_delta_step=None, max_depth=None, max_leaves=None,\n",
       "              min_child_weight=None, missing=nan, monotone_constraints=None,\n",
       "              multi_strategy=None, n_estimators=None, n_jobs=None,\n",
       "              num_parallel_tree=None, random_state=None, ...)</pre><b>In a Jupyter environment, please rerun this cell to show the HTML representation or trust the notebook. <br />On GitHub, the HTML representation is unable to render, please try loading this page with nbviewer.org.</b></div><div class=\"sk-container\" hidden><div class=\"sk-item\"><div class=\"sk-estimator sk-toggleable\"><input class=\"sk-toggleable__control sk-hidden--visually\" id=\"sk-estimator-id-10\" type=\"checkbox\" checked><label for=\"sk-estimator-id-10\" class=\"sk-toggleable__label sk-toggleable__label-arrow\">XGBClassifier</label><div class=\"sk-toggleable__content\"><pre>XGBClassifier(base_score=None, booster=None, callbacks=None,\n",
       "              colsample_bylevel=None, colsample_bynode=None,\n",
       "              colsample_bytree=None, device=None, early_stopping_rounds=None,\n",
       "              enable_categorical=False, eval_metric=None, feature_types=None,\n",
       "              gamma=None, grow_policy=None, importance_type=None,\n",
       "              interaction_constraints=None, learning_rate=None, max_bin=None,\n",
       "              max_cat_threshold=None, max_cat_to_onehot=None,\n",
       "              max_delta_step=None, max_depth=None, max_leaves=None,\n",
       "              min_child_weight=None, missing=nan, monotone_constraints=None,\n",
       "              multi_strategy=None, n_estimators=None, n_jobs=None,\n",
       "              num_parallel_tree=None, random_state=None, ...)</pre></div></div></div></div></div>"
      ],
      "text/plain": [
       "XGBClassifier(base_score=None, booster=None, callbacks=None,\n",
       "              colsample_bylevel=None, colsample_bynode=None,\n",
       "              colsample_bytree=None, device=None, early_stopping_rounds=None,\n",
       "              enable_categorical=False, eval_metric=None, feature_types=None,\n",
       "              gamma=None, grow_policy=None, importance_type=None,\n",
       "              interaction_constraints=None, learning_rate=None, max_bin=None,\n",
       "              max_cat_threshold=None, max_cat_to_onehot=None,\n",
       "              max_delta_step=None, max_depth=None, max_leaves=None,\n",
       "              min_child_weight=None, missing=nan, monotone_constraints=None,\n",
       "              multi_strategy=None, n_estimators=None, n_jobs=None,\n",
       "              num_parallel_tree=None, random_state=None, ...)"
      ]
     },
     "execution_count": 165,
     "metadata": {},
     "output_type": "execute_result"
    }
   ],
   "source": [
    "xgboost1= XGBClassifier()\n",
    "xgboost1.fit(train_X_1, train_Y)"
   ]
  },
  {
   "cell_type": "code",
   "execution_count": 166,
   "id": "212d6216-7765-48ee-9727-2fc80402666e",
   "metadata": {},
   "outputs": [
    {
     "data": {
      "text/plain": [
       "['./xgboost1.joblib']"
      ]
     },
     "execution_count": 166,
     "metadata": {},
     "output_type": "execute_result"
    }
   ],
   "source": [
    "dump(xgboost1,'./xgboost1.joblib')\n"
   ]
  },
  {
   "cell_type": "code",
   "execution_count": 167,
   "id": "c2d501c8-1146-4840-9643-8cafe102fb4d",
   "metadata": {},
   "outputs": [
    {
     "name": "stdout",
     "output_type": "stream",
     "text": [
      "Training Accuracy is 0.9078101265822784\n"
     ]
    }
   ],
   "source": [
    "train_y_hat = xgboost1.predict(train_X_1)\n",
    "train_acc = metrics.accuracy_score(train_Y,train_y_hat)\n",
    "print(f\"Training Accuracy is {train_acc}\")\n",
    "# experiment.log_metric(\"train_acc\",train_acc)"
   ]
  },
  {
   "cell_type": "code",
   "execution_count": 168,
   "id": "92f366f4-bc59-4c17-9ef2-d259e6e2fe15",
   "metadata": {},
   "outputs": [
    {
     "name": "stdout",
     "output_type": "stream",
     "text": [
      "Validation Accuracy is 0.9067602315477472\n"
     ]
    }
   ],
   "source": [
    "val_y_hat = xgboost1.predict(val_X_1)\n",
    "val_acc = metrics.accuracy_score(val_Y,val_y_hat)\n",
    "print(f\"Validation Accuracy is {val_acc}\")\n",
    "# experiment.log_metric(\"val_acc\",val_acc)"
   ]
  },
  {
   "cell_type": "markdown",
   "id": "4a9b6a95-bc7e-4813-8b24-cdf0c326ec77",
   "metadata": {},
   "source": [
    "# Discuss : TODO"
   ]
  },
  {
   "cell_type": "markdown",
   "id": "ce163af3-ee75-46e3-9aaa-e0e54aaa4874",
   "metadata": {},
   "source": [
    "#### 1.2"
   ]
  },
  {
   "cell_type": "code",
   "execution_count": 169,
   "id": "c1aee106-7121-4956-9ff0-71fb54758898",
   "metadata": {},
   "outputs": [],
   "source": [
    "val_res = xgboost1.predict_proba(val_X_1)"
   ]
  },
  {
   "cell_type": "markdown",
   "id": "64c24619-78da-4a88-beec-8cbc2612069f",
   "metadata": {},
   "source": [
    "##### ROC AUC"
   ]
  },
  {
   "cell_type": "code",
   "execution_count": 170,
   "id": "734b4d71-ad7e-4714-a5cf-78bf54879d19",
   "metadata": {},
   "outputs": [],
   "source": [
    "fpr,tpr,threshold = metrics.roc_curve(val_Y,val_res[:,1])"
   ]
  },
  {
   "cell_type": "code",
   "execution_count": 171,
   "id": "d4707a75-d30d-4e35-8b38-a869dc6c83f7",
   "metadata": {},
   "outputs": [
    {
     "data": {
      "text/plain": [
       "0.7073811059273122"
      ]
     },
     "execution_count": 171,
     "metadata": {},
     "output_type": "execute_result"
    }
   ],
   "source": [
    "metrics.auc(fpr,tpr)"
   ]
  },
  {
   "cell_type": "code",
   "execution_count": 172,
   "id": "c0a86653-5660-48dd-bdd8-7c4620eb5110",
   "metadata": {},
   "outputs": [
    {
     "data": {
      "text/plain": [
       "<matplotlib.legend.Legend at 0x1b85ece6f20>"
      ]
     },
     "execution_count": 172,
     "metadata": {},
     "output_type": "execute_result"
    },
    {
     "data": {
      "image/png": "[encoded data removed]",
      "text/plain": [
       "<Figure size 640x480 with 1 Axes>"
      ]
     },
     "metadata": {},
     "output_type": "display_data"
    }
   ],
   "source": [
    "plt.title('ROC/AUC for XGboost trained on distance and angle')\n",
    "plt.plot(fpr,tpr,'y',label=\"distance and angle, AUC =%0.2f\"%metrics.auc(fpr,tpr))\n",
    "plt.plot([0, 1], [0, 1],'r--')\n",
    "plt.xlim([-0.05, 1.05])\n",
    "plt.ylim([-0.05, 1.05])\n",
    "plt.ylabel('TPR')\n",
    "plt.xlabel('FPR')\n",
    "plt.legend(loc=\"lower right\")\n"
   ]
  },
  {
   "cell_type": "markdown",
   "id": "b518291e-912b-45fd-9deb-da1f024277e6",
   "metadata": {},
   "source": [
    "##### Goal rate"
   ]
  },
  {
   "cell_type": "code",
   "execution_count": 173,
   "id": "12cfc8a1-8509-4b6a-bd19-8bf91e2725fc",
   "metadata": {},
   "outputs": [],
   "source": [
    "probas_and_label = val_Y.copy()"
   ]
  },
  {
   "cell_type": "code",
   "execution_count": 174,
   "id": "5fb3b828-14ac-4aeb-aa55-de4d708ccc97",
   "metadata": {},
   "outputs": [],
   "source": [
    "probas_and_label['goal_proba']=val_res[:,1]"
   ]
  },
  {
   "cell_type": "code",
   "execution_count": 175,
   "id": "d30ab1fd-22a5-442d-abfa-015ac8222a84",
   "metadata": {},
   "outputs": [
    {
     "data": {
      "text/html": [
       "<div>\n",
       "<style scoped>\n",
       "    .dataframe tbody tr th:only-of-type {\n",
       "        vertical-align: middle;\n",
       "    }\n",
       "\n",
       "    .dataframe tbody tr th {\n",
       "        vertical-align: top;\n",
       "    }\n",
       "\n",
       "    .dataframe thead th {\n",
       "        text-align: right;\n",
       "    }\n",
       "</style>\n",
       "<table border=\"1\" class=\"dataframe\">\n",
       "  <thead>\n",
       "    <tr style=\"text-align: right;\">\n",
       "      <th></th>\n",
       "      <th>is_goal</th>\n",
       "      <th>goal_proba</th>\n",
       "    </tr>\n",
       "  </thead>\n",
       "  <tbody>\n",
       "    <tr>\n",
       "      <th>248541</th>\n",
       "      <td>0</td>\n",
       "      <td>0.116089</td>\n",
       "    </tr>\n",
       "    <tr>\n",
       "      <th>111574</th>\n",
       "      <td>1</td>\n",
       "      <td>0.152514</td>\n",
       "    </tr>\n",
       "    <tr>\n",
       "      <th>150403</th>\n",
       "      <td>1</td>\n",
       "      <td>0.172216</td>\n",
       "    </tr>\n",
       "    <tr>\n",
       "      <th>73604</th>\n",
       "      <td>0</td>\n",
       "      <td>0.008252</td>\n",
       "    </tr>\n",
       "    <tr>\n",
       "      <th>140849</th>\n",
       "      <td>0</td>\n",
       "      <td>0.011274</td>\n",
       "    </tr>\n",
       "    <tr>\n",
       "      <th>...</th>\n",
       "      <td>...</td>\n",
       "      <td>...</td>\n",
       "    </tr>\n",
       "    <tr>\n",
       "      <th>115009</th>\n",
       "      <td>0</td>\n",
       "      <td>0.036144</td>\n",
       "    </tr>\n",
       "    <tr>\n",
       "      <th>258418</th>\n",
       "      <td>0</td>\n",
       "      <td>0.061953</td>\n",
       "    </tr>\n",
       "    <tr>\n",
       "      <th>210896</th>\n",
       "      <td>0</td>\n",
       "      <td>0.035349</td>\n",
       "    </tr>\n",
       "    <tr>\n",
       "      <th>29997</th>\n",
       "      <td>0</td>\n",
       "      <td>0.005688</td>\n",
       "    </tr>\n",
       "    <tr>\n",
       "      <th>278638</th>\n",
       "      <td>0</td>\n",
       "      <td>0.122359</td>\n",
       "    </tr>\n",
       "  </tbody>\n",
       "</table>\n",
       "<p>78947 rows × 2 columns</p>\n",
       "</div>"
      ],
      "text/plain": [
       "        is_goal  goal_proba\n",
       "248541        0    0.116089\n",
       "111574        1    0.152514\n",
       "150403        1    0.172216\n",
       "73604         0    0.008252\n",
       "140849        0    0.011274\n",
       "...         ...         ...\n",
       "115009        0    0.036144\n",
       "258418        0    0.061953\n",
       "210896        0    0.035349\n",
       "29997         0    0.005688\n",
       "278638        0    0.122359\n",
       "\n",
       "[78947 rows x 2 columns]"
      ]
     },
     "execution_count": 175,
     "metadata": {},
     "output_type": "execute_result"
    }
   ],
   "source": [
    "probas_and_label"
   ]
  },
  {
   "cell_type": "code",
   "execution_count": 176,
   "id": "619e4abd-1422-4721-b2e0-de15f07cd784",
   "metadata": {},
   "outputs": [],
   "source": [
    "probas_and_label = probas_and_label.sort_values(by=['goal_proba'], ascending=False)"
   ]
  },
  {
   "cell_type": "code",
   "execution_count": 177,
   "id": "b8fed765-780c-4a6f-979d-94612b4e81a9",
   "metadata": {},
   "outputs": [],
   "source": [
    "probas_and_label['#goal+#shot'] = range(1,len(probas_and_label)+1)"
   ]
  },
  {
   "cell_type": "code",
   "execution_count": 178,
   "id": "7dfdaf4e-366d-4ad3-b24e-1472ae5b9eec",
   "metadata": {},
   "outputs": [
    {
     "data": {
      "text/plain": [
       "array([0, 0, 0, ..., 0, 1, 0], dtype=int64)"
      ]
     },
     "execution_count": 178,
     "metadata": {},
     "output_type": "execute_result"
    }
   ],
   "source": [
    "shot_and_goal = np.array(probas_and_label.loc[:,'is_goal'])\n",
    "shot_and_goal"
   ]
  },
  {
   "cell_type": "code",
   "execution_count": 179,
   "id": "6246d3cc-78b8-4c05-b8d6-e405117853ae",
   "metadata": {},
   "outputs": [],
   "source": [
    "goal = np.zeros(len(shot_and_goal))\n",
    "\n",
    "for i in range(len(shot_and_goal)):\n",
    "    goal[i] = shot_and_goal[:i].sum()"
   ]
  },
  {
   "cell_type": "code",
   "execution_count": 180,
   "id": "1a53e55b-57b2-484c-b318-5b166a13b83a",
   "metadata": {},
   "outputs": [],
   "source": [
    "probas_and_label['#goal'] =  goal"
   ]
  },
  {
   "cell_type": "code",
   "execution_count": 181,
   "id": "266e67bc-5957-47f0-aa2c-4fc0d56e8738",
   "metadata": {},
   "outputs": [],
   "source": [
    "probas_and_label['#goal/#goal+#shot'] = 100*probas_and_label['#goal']/probas_and_label['#goal+#shot']\n",
    "probas_and_label['rank'] = probas_and_label['goal_proba'].rank(pct=True)*100\n",
    "probas_and_label['goal_prob_sum'] = probas_and_label['#goal/#goal+#shot'].sum()\n",
    "probas_and_label['goal_prob_cumulative_sum'] = probas_and_label['#goal/#goal+#shot'].cumsum()\n",
    "probas_and_label['cum_percent'] = 100*(probas_and_label['goal_prob_cumulative_sum'] / probas_and_label['goal_prob_sum'])"
   ]
  },
  {
   "cell_type": "code",
   "execution_count": 188,
   "id": "b66aa32f-fd71-4a51-a4f1-fb8d68c25721",
   "metadata": {},
   "outputs": [
    {
     "data": {
      "text/html": [
       "<div>\n",
       "<style scoped>\n",
       "    .dataframe tbody tr th:only-of-type {\n",
       "        vertical-align: middle;\n",
       "    }\n",
       "\n",
       "    .dataframe tbody tr th {\n",
       "        vertical-align: top;\n",
       "    }\n",
       "\n",
       "    .dataframe thead th {\n",
       "        text-align: right;\n",
       "    }\n",
       "</style>\n",
       "<table border=\"1\" class=\"dataframe\">\n",
       "  <thead>\n",
       "    <tr style=\"text-align: right;\">\n",
       "      <th></th>\n",
       "      <th>is_goal</th>\n",
       "      <th>goal_proba</th>\n",
       "      <th>#goal+#shot</th>\n",
       "      <th>#goal</th>\n",
       "      <th>#goal/#goal+#shot</th>\n",
       "      <th>rank</th>\n",
       "      <th>goal_prob_sum</th>\n",
       "      <th>goal_prob_cumulative_sum</th>\n",
       "      <th>cum_percent</th>\n",
       "    </tr>\n",
       "  </thead>\n",
       "  <tbody>\n",
       "    <tr>\n",
       "      <th>324045</th>\n",
       "      <td>0</td>\n",
       "      <td>0.695388</td>\n",
       "      <td>1</td>\n",
       "      <td>0.0</td>\n",
       "      <td>0.000000</td>\n",
       "      <td>99.996200</td>\n",
       "      <td>1.212003e+06</td>\n",
       "      <td>0.000000e+00</td>\n",
       "      <td>0.000000</td>\n",
       "    </tr>\n",
       "    <tr>\n",
       "      <th>83169</th>\n",
       "      <td>0</td>\n",
       "      <td>0.695388</td>\n",
       "      <td>2</td>\n",
       "      <td>0.0</td>\n",
       "      <td>0.000000</td>\n",
       "      <td>99.996200</td>\n",
       "      <td>1.212003e+06</td>\n",
       "      <td>0.000000e+00</td>\n",
       "      <td>0.000000</td>\n",
       "    </tr>\n",
       "    <tr>\n",
       "      <th>219038</th>\n",
       "      <td>0</td>\n",
       "      <td>0.695388</td>\n",
       "      <td>3</td>\n",
       "      <td>0.0</td>\n",
       "      <td>0.000000</td>\n",
       "      <td>99.996200</td>\n",
       "      <td>1.212003e+06</td>\n",
       "      <td>0.000000e+00</td>\n",
       "      <td>0.000000</td>\n",
       "    </tr>\n",
       "    <tr>\n",
       "      <th>257691</th>\n",
       "      <td>1</td>\n",
       "      <td>0.695388</td>\n",
       "      <td>4</td>\n",
       "      <td>0.0</td>\n",
       "      <td>0.000000</td>\n",
       "      <td>99.996200</td>\n",
       "      <td>1.212003e+06</td>\n",
       "      <td>0.000000e+00</td>\n",
       "      <td>0.000000</td>\n",
       "    </tr>\n",
       "    <tr>\n",
       "      <th>224489</th>\n",
       "      <td>0</td>\n",
       "      <td>0.695388</td>\n",
       "      <td>5</td>\n",
       "      <td>1.0</td>\n",
       "      <td>20.000000</td>\n",
       "      <td>99.996200</td>\n",
       "      <td>1.212003e+06</td>\n",
       "      <td>2.000000e+01</td>\n",
       "      <td>0.001650</td>\n",
       "    </tr>\n",
       "    <tr>\n",
       "      <th>...</th>\n",
       "      <td>...</td>\n",
       "      <td>...</td>\n",
       "      <td>...</td>\n",
       "      <td>...</td>\n",
       "      <td>...</td>\n",
       "      <td>...</td>\n",
       "      <td>...</td>\n",
       "      <td>...</td>\n",
       "      <td>...</td>\n",
       "    </tr>\n",
       "    <tr>\n",
       "      <th>18176</th>\n",
       "      <td>0</td>\n",
       "      <td>0.001595</td>\n",
       "      <td>78943</td>\n",
       "      <td>7363.0</td>\n",
       "      <td>9.326983</td>\n",
       "      <td>0.004433</td>\n",
       "      <td>1.212003e+06</td>\n",
       "      <td>1.211966e+06</td>\n",
       "      <td>99.996922</td>\n",
       "    </tr>\n",
       "    <tr>\n",
       "      <th>319056</th>\n",
       "      <td>0</td>\n",
       "      <td>0.001595</td>\n",
       "      <td>78944</td>\n",
       "      <td>7363.0</td>\n",
       "      <td>9.326865</td>\n",
       "      <td>0.004433</td>\n",
       "      <td>1.212003e+06</td>\n",
       "      <td>1.211975e+06</td>\n",
       "      <td>99.997691</td>\n",
       "    </tr>\n",
       "    <tr>\n",
       "      <th>163057</th>\n",
       "      <td>0</td>\n",
       "      <td>0.001595</td>\n",
       "      <td>78945</td>\n",
       "      <td>7363.0</td>\n",
       "      <td>9.326746</td>\n",
       "      <td>0.004433</td>\n",
       "      <td>1.212003e+06</td>\n",
       "      <td>1.211985e+06</td>\n",
       "      <td>99.998461</td>\n",
       "    </tr>\n",
       "    <tr>\n",
       "      <th>63459</th>\n",
       "      <td>1</td>\n",
       "      <td>0.001595</td>\n",
       "      <td>78946</td>\n",
       "      <td>7363.0</td>\n",
       "      <td>9.326628</td>\n",
       "      <td>0.004433</td>\n",
       "      <td>1.212003e+06</td>\n",
       "      <td>1.211994e+06</td>\n",
       "      <td>99.999230</td>\n",
       "    </tr>\n",
       "    <tr>\n",
       "      <th>295586</th>\n",
       "      <td>0</td>\n",
       "      <td>0.001595</td>\n",
       "      <td>78947</td>\n",
       "      <td>7364.0</td>\n",
       "      <td>9.327777</td>\n",
       "      <td>0.004433</td>\n",
       "      <td>1.212003e+06</td>\n",
       "      <td>1.212003e+06</td>\n",
       "      <td>100.000000</td>\n",
       "    </tr>\n",
       "  </tbody>\n",
       "</table>\n",
       "<p>78947 rows × 9 columns</p>\n",
       "</div>"
      ],
      "text/plain": [
       "        is_goal  goal_proba  #goal+#shot   #goal  #goal/#goal+#shot  \\\n",
       "324045        0    0.695388            1     0.0           0.000000   \n",
       "83169         0    0.695388            2     0.0           0.000000   \n",
       "219038        0    0.695388            3     0.0           0.000000   \n",
       "257691        1    0.695388            4     0.0           0.000000   \n",
       "224489        0    0.695388            5     1.0          20.000000   \n",
       "...         ...         ...          ...     ...                ...   \n",
       "18176         0    0.001595        78943  7363.0           9.326983   \n",
       "319056        0    0.001595        78944  7363.0           9.326865   \n",
       "163057        0    0.001595        78945  7363.0           9.326746   \n",
       "63459         1    0.001595        78946  7363.0           9.326628   \n",
       "295586        0    0.001595        78947  7364.0           9.327777   \n",
       "\n",
       "             rank  goal_prob_sum  goal_prob_cumulative_sum  cum_percent  \n",
       "324045  99.996200   1.212003e+06              0.000000e+00     0.000000  \n",
       "83169   99.996200   1.212003e+06              0.000000e+00     0.000000  \n",
       "219038  99.996200   1.212003e+06              0.000000e+00     0.000000  \n",
       "257691  99.996200   1.212003e+06              0.000000e+00     0.000000  \n",
       "224489  99.996200   1.212003e+06              2.000000e+01     0.001650  \n",
       "...           ...            ...                       ...          ...  \n",
       "18176    0.004433   1.212003e+06              1.211966e+06    99.996922  \n",
       "319056   0.004433   1.212003e+06              1.211975e+06    99.997691  \n",
       "163057   0.004433   1.212003e+06              1.211985e+06    99.998461  \n",
       "63459    0.004433   1.212003e+06              1.211994e+06    99.999230  \n",
       "295586   0.004433   1.212003e+06              1.212003e+06   100.000000  \n",
       "\n",
       "[78947 rows x 9 columns]"
      ]
     },
     "execution_count": 188,
     "metadata": {},
     "output_type": "execute_result"
    }
   ],
   "source": [
    "probas_and_label"
   ]
  },
  {
   "cell_type": "code",
   "execution_count": 184,
   "id": "f6a13b10-2ef8-4130-b7d2-6dc362be0c30",
   "metadata": {},
   "outputs": [
    {
     "data": {
      "text/plain": [
       "<matplotlib.legend.Legend at 0x1b85474c5b0>"
      ]
     },
     "execution_count": 184,
     "metadata": {},
     "output_type": "execute_result"
    },
    {
     "data": {
      "image/png": "[encoded data removed]",
      "text/plain": [
       "<Figure size 640x480 with 1 Axes>"
      ]
     },
     "metadata": {},
     "output_type": "display_data"
    }
   ],
   "source": [
    "plt.plot(probas_and_label['rank'].iloc[int(len(probas_and_label)*0.01):],probas_and_label['#goal/#goal+#shot'].iloc[int(len(probas_and_label)*0.01):],label=\"distance and angle\")\n",
    "plt.xlim([105,-5])\n",
    "plt.ylim([-5,105])\n",
    "plt.grid(True)\n",
    "plt.ylabel(\"Goals/(Shots+Goals) (%)\")\n",
    "plt.xlabel(\"Shot probability model percentile\")\n",
    "plt.legend()"
   ]
  },
  {
   "cell_type": "code",
   "execution_count": 185,
   "id": "31453f9b-9f0e-42cb-8003-eed1d35b19d9",
   "metadata": {},
   "outputs": [
    {
     "data": {
      "text/plain": [
       "<matplotlib.legend.Legend at 0x1b8547dae00>"
      ]
     },
     "execution_count": 185,
     "metadata": {},
     "output_type": "execute_result"
    },
    {
     "data": {
      "image/png": "[encoded data removed]",
      "text/plain": [
       "<Figure size 640x480 with 1 Axes>"
      ]
     },
     "metadata": {},
     "output_type": "display_data"
    }
   ],
   "source": [
    "plt.plot(probas_and_label['rank'],probas_and_label['cum_percent'],label=\"distance and angle\")\n",
    "plt.xlim([105,-5])\n",
    "plt.ylim([-5,105])\n",
    "plt.grid(True)\n",
    "plt.ylabel(\"Proportion (%)\")\n",
    "plt.xlabel(\"Shot probability model percentile\")\n",
    "plt.legend()"
   ]
  },
  {
   "cell_type": "code",
   "execution_count": 186,
   "id": "9b047fb4-fb04-479b-8a84-a3ac05f20400",
   "metadata": {},
   "outputs": [
    {
     "data": {
      "image/png": "[encoded data removed]",
      "text/plain": [
       "<Figure size 640x480 with 1 Axes>"
      ]
     },
     "metadata": {},
     "output_type": "display_data"
    }
   ],
   "source": [
    "disp = CalibrationDisplay.from_estimator(xgboost1,val_X_1,val_Y)\n",
    "plt.grid(True)"
   ]
  },
  {
   "cell_type": "code",
   "execution_count": null,
   "id": "4035780a-17a2-442d-ab39-212167d33867",
   "metadata": {},
   "outputs": [],
   "source": []
  }
 ],
 "metadata": {
  "kernelspec": {
   "display_name": "Python 3 (ipykernel)",
   "language": "python",
   "name": "python3"
  },
  "language_info": {
   "codemirror_mode": {
    "name": "ipython",
    "version": 3
   },
   "file_extension": ".py",
   "mimetype": "text/x-python",
   "name": "python",
   "nbconvert_exporter": "python",
   "pygments_lexer": "ipython3",
   "version": "3.10.9"
  }
 },
 "nbformat": 4,
 "nbformat_minor": 5
}
