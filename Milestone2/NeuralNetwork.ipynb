{
 "cells": [
  {
   "cell_type": "code",
   "execution_count": 2,
   "metadata": {},
   "outputs": [],
   "source": [
    "import os\n",
    "import numpy as np\n",
    "import pandas as pd\n",
    "import matplotlib.pyplot as plt\n",
    "from tqdm import tqdm\n",
    "from FeatureEngineering_2 import *\n",
    "from joblib import dump, load\n",
    "from AdvancedModel_helpers import *"
   ]
  },
  {
   "cell_type": "code",
   "execution_count": null,
   "metadata": {},
   "outputs": [],
   "source": [
    "if not os.path.exists(\"csv\"):\n",
    "    os.makedirs(\"csv\")\n",
    "for year in [2016,2017, 2018, 2019]: # 2020 has been excluded to be reserved as the test set\n",
    "    read_a_season(\"../nhl_data/\",year).to_csv('csv/tidy_{season}.csv'.format(season = year), sep = ',', index = False)"
   ]
  },
  {
   "cell_type": "code",
   "execution_count": 8,
   "metadata": {},
   "outputs": [
    {
     "name": "stderr",
     "output_type": "stream",
     "text": [
      "Loading files:   0%|          | 0/4 [00:00<?, ?file/s]"
     ]
    },
    {
     "name": "stderr",
     "output_type": "stream",
     "text": [
      "Loading files: 100%|██████████| 4/4 [00:01<00:00,  2.91file/s]\n"
     ]
    }
   ],
   "source": [
    "directory = 'csv'\n",
    "\n",
    "# Get a list of csv file names within the directory\n",
    "csv_files = [f for f in os.listdir(directory) if f.endswith('.csv')]\n",
    "\n",
    "# Sort the list of csv files\n",
    "csv_files.sort()\n",
    "\n",
    "# List to hold your DataFrames\n",
    "dataframes_list = []\n",
    "\n",
    "# Loop over the sorted list of csv files with tqdm for progress indication\n",
    "for filename in tqdm(csv_files, desc=\"Loading files\", unit=\"file\"):\n",
    "    file_path = os.path.join(directory, filename)\n",
    "    df = pd.read_csv(file_path)\n",
    "\n",
    "    # Filter the DataFrame to only include rows where 5th and 6th digits of 'game_id' are '02' (Regular Season)\n",
    "    df = df[df['game_id'].astype(str).str[4:6] == '02']\n",
    "\n",
    "    dataframes_list.append(df)\n",
    "\n",
    "# Concatenate all the DataFrames in the list into a single DataFrame\n",
    "train_val_df = pd.concat(dataframes_list, ignore_index=True)\n",
    "\n",
    "# Sort the DataFrame first by 'game_id' and then by 'event_idx'\n",
    "train_val_df = train_val_df.sort_values(by=['game_id', 'event_idx'])\n",
    "\n",
    "# Reset the index of the sorted DataFrame\n",
    "train_val_df = train_val_df.reset_index(drop=True)"
   ]
  },
  {
   "cell_type": "markdown",
   "metadata": {},
   "source": [
    "### Load datas and One-Hot encoding"
   ]
  },
  {
   "cell_type": "code",
   "execution_count": 9,
   "metadata": {},
   "outputs": [],
   "source": [
    "train_val_df=train_val_df[['game_time','period','x','y','shot_type','last_event_type',\n",
    "       'x_coord_last_event', 'y_coord_last_event', 'Time_from_the_last_event',\n",
    "       'Distance_from_the_last_event', 'Rebound', 'change_shot_angle', 'Speed',\n",
    "       'angle_net', 'is_goal']]"
   ]
  },
  {
   "cell_type": "code",
   "execution_count": 10,
   "metadata": {},
   "outputs": [],
   "source": [
    "train_val_shot_type_oh = onehot_generator(train_val_df[['shot_type']])\n",
    "train_val_last_event_type_oh = onehot_generator(train_val_df[['last_event_type']])\n",
    "train_val_df= train_val_df.drop(columns=['shot_type','last_event_type'])\n",
    "train_val_df = pd.concat([train_val_df,\n",
    "                       train_val_shot_type_oh.set_index(train_val_df.index),\n",
    "                       train_val_last_event_type_oh.set_index(train_val_df.index)],axis=1)"
   ]
  },
  {
   "cell_type": "code",
   "execution_count": 11,
   "metadata": {},
   "outputs": [],
   "source": [
    "train_X,train_Y,val_X,val_Y = split_data(train_val_df,['game_time', 'period', 'x', 'y', 'x_coord_last_event',\n",
    "       'y_coord_last_event', 'Time_from_the_last_event',\n",
    "       'Distance_from_the_last_event', 'Rebound', 'change_shot_angle', 'Speed',\n",
    "       'angle_net', 'shot_type_Backhand', 'shot_type_Deflected',\n",
    "       'shot_type_Slap Shot', 'shot_type_Snap Shot', 'shot_type_Tip-In',\n",
    "       'shot_type_Wrap-around', 'shot_type_Wrist Shot', 'shot_type_nan',\n",
    "       'last_event_type_Blocked Shot', 'last_event_type_Faceoff',\n",
    "       'last_event_type_Game Official', 'last_event_type_Giveaway',\n",
    "       'last_event_type_Goal', 'last_event_type_Hit',\n",
    "       'last_event_type_Missed Shot', 'last_event_type_Official Challenge',\n",
    "       'last_event_type_Penalty', 'last_event_type_Period End',\n",
    "       'last_event_type_Period Ready', 'last_event_type_Period Start',\n",
    "       'last_event_type_Shootout Complete', 'last_event_type_Shot',\n",
    "       'last_event_type_Stoppage', 'last_event_type_Takeaway'],0.25,False)"
   ]
  },
  {
   "cell_type": "markdown",
   "metadata": {},
   "source": [
    "### Multi-layer Perceptron Model"
   ]
  },
  {
   "cell_type": "markdown",
   "metadata": {},
   "source": [
    "from sklearn.neural_network import MLPClassifier"
   ]
  }
 ],
 "metadata": {
  "kernelspec": {
   "display_name": "base",
   "language": "python",
   "name": "python3"
  },
  "language_info": {
   "codemirror_mode": {
    "name": "ipython",
    "version": 3
   },
   "file_extension": ".py",
   "mimetype": "text/x-python",
   "name": "python",
   "nbconvert_exporter": "python",
   "pygments_lexer": "ipython3",
   "version": "3.10.9"
  }
 },
 "nbformat": 4,
 "nbformat_minor": 2
}
