{
 "cells": [
  {
   "cell_type": "code",
   "execution_count": 1,
   "metadata": {},
   "outputs": [],
   "source": [
    "import os\n",
    "import numpy as np\n",
    "import pandas as pd\n",
    "import matplotlib.pyplot as plt\n",
    "from tqdm import tqdm\n",
    "from FeatureEngineering_2 import *\n",
    "from joblib import dump, load\n",
    "from AdvancedModel_helpers import *\n",
    "from sklearn import metrics\n",
    "from sklearn.calibration import CalibrationDisplay\n",
    "from sklearn.neural_network import MLPClassifier\n",
    "from sklearn.model_selection import cross_val_score, GridSearchCV, RandomizedSearchCV\n",
    "from sklearn.feature_selection import VarianceThreshold,RFE\n",
    "from sklearn.metrics import roc_auc_score"
   ]
  },
  {
   "cell_type": "code",
   "execution_count": 2,
   "metadata": {},
   "outputs": [],
   "source": [
    "# import comet_ml at the top of your file\n",
    "from comet_ml import Experiment"
   ]
  },
  {
   "cell_type": "code",
   "execution_count": 9,
   "metadata": {},
   "outputs": [
    {
     "name": "stderr",
     "output_type": "stream",
     "text": [
      "\u001b[1;38;5;214mCOMET WARNING:\u001b[0m To get all data logged automatically, import comet_ml before the following modules: sklearn, xgboost.\n",
      "\u001b[1;38;5;214mCOMET WARNING:\u001b[0m As you are running in a Jupyter environment, you will need to call `experiment.end()` when finished to ensure all metrics and code are logged before exiting.\n",
      "\u001b[1;38;5;39mCOMET INFO:\u001b[0m Experiment is live on comet.com https://www.comet.com/hfereidouni/ift6758/7ed50c650eed45188f3c751320e6aa22\n",
      "\n"
     ]
    }
   ],
   "source": [
    "# Create an experiment with your api key\n",
    "exp = Experiment(\n",
    "    api_key=\"v5q8O8LftZtvOcoXlVM8Ku8fH\",\n",
    "    project_name=\"ift6758\",\n",
    "    workspace=\"hfereidouni\",\n",
    ")"
   ]
  },
  {
   "cell_type": "code",
   "execution_count": 61,
   "metadata": {},
   "outputs": [
    {
     "name": "stderr",
     "output_type": "stream",
     "text": [
      "  2%|▏         | 140/6433 [00:03<02:27, 42.59it/s]\n"
     ]
    },
    {
     "ename": "KeyboardInterrupt",
     "evalue": "",
     "output_type": "error",
     "traceback": [
      "\u001b[1;31m---------------------------------------------------------------------------\u001b[0m",
      "\u001b[1;31mKeyboardInterrupt\u001b[0m                         Traceback (most recent call last)",
      "\u001b[1;32mc:\\Users\\yujd1\\Documents\\GitHub\\datascience\\Milestone2\\Part6_Models.ipynb 单元格 2\u001b[0m line \u001b[0;36m4\n\u001b[0;32m      <a href='vscode-notebook-cell:/c%3A/Users/yujd1/Documents/GitHub/datascience/Milestone2/Part6_Models.ipynb#W1sZmlsZQ%3D%3D?line=1'>2</a>\u001b[0m     os\u001b[39m.\u001b[39mmakedirs(\u001b[39m\"\u001b[39m\u001b[39mcsv\u001b[39m\u001b[39m\"\u001b[39m)\n\u001b[0;32m      <a href='vscode-notebook-cell:/c%3A/Users/yujd1/Documents/GitHub/datascience/Milestone2/Part6_Models.ipynb#W1sZmlsZQ%3D%3D?line=2'>3</a>\u001b[0m \u001b[39mfor\u001b[39;00m year \u001b[39min\u001b[39;00m [\u001b[39m2016\u001b[39m,\u001b[39m2017\u001b[39m, \u001b[39m2018\u001b[39m, \u001b[39m2019\u001b[39m]: \u001b[39m# 2020 has been excluded to be reserved as the test set\u001b[39;00m\n\u001b[1;32m----> <a href='vscode-notebook-cell:/c%3A/Users/yujd1/Documents/GitHub/datascience/Milestone2/Part6_Models.ipynb#W1sZmlsZQ%3D%3D?line=3'>4</a>\u001b[0m     read_a_season(\u001b[39m\"\u001b[39;49m\u001b[39m../nhl_data/\u001b[39;49m\u001b[39m\"\u001b[39;49m,year)\u001b[39m.\u001b[39mto_csv(\u001b[39m'\u001b[39m\u001b[39mcsv/tidy_\u001b[39m\u001b[39m{season}\u001b[39;00m\u001b[39m.csv\u001b[39m\u001b[39m'\u001b[39m\u001b[39m.\u001b[39mformat(season \u001b[39m=\u001b[39m year), sep \u001b[39m=\u001b[39m \u001b[39m'\u001b[39m\u001b[39m,\u001b[39m\u001b[39m'\u001b[39m, index \u001b[39m=\u001b[39m \u001b[39mFalse\u001b[39;00m)\n",
      "File \u001b[1;32mc:\\Users\\yujd1\\Documents\\GitHub\\datascience\\Milestone2\\FeatureEngineering_2.py:280\u001b[0m, in \u001b[0;36mread_a_season\u001b[1;34m(path, start_year)\u001b[0m\n\u001b[0;32m    276\u001b[0m                 result \u001b[39m=\u001b[39m temp\n\u001b[0;32m    277\u001b[0m             \u001b[39melse\u001b[39;00m:\n\u001b[0;32m    278\u001b[0m                 \u001b[39m# pandas 2.1.1 has null error\u001b[39;00m\n\u001b[0;32m    279\u001b[0m                 \u001b[39m# fix: https://stackoverflow.com/questions/77254777/alternative-to-concat-of-empty-dataframe-now-that-it-is-being-deprecated\u001b[39;00m\n\u001b[1;32m--> 280\u001b[0m                 result \u001b[39m=\u001b[39m pd\u001b[39m.\u001b[39mconcat([result\u001b[39m.\u001b[39;49mastype(temp\u001b[39m.\u001b[39;49mdtypes),temp\u001b[39m.\u001b[39mastype(result\u001b[39m.\u001b[39mdtypes)],ignore_index\u001b[39m=\u001b[39m\u001b[39mTrue\u001b[39;00m)\n\u001b[0;32m    281\u001b[0m \u001b[39melse\u001b[39;00m:\n\u001b[0;32m    282\u001b[0m     \u001b[39mprint\u001b[39m(\u001b[39m\"\u001b[39m\u001b[39mPlease choose a season between 2016 and 2020\u001b[39m\u001b[39m\"\u001b[39m)\n",
      "File \u001b[1;32m~\\AppData\\Roaming\\Python\\Python310\\site-packages\\pandas\\core\\generic.py:6513\u001b[0m, in \u001b[0;36mNDFrame.astype\u001b[1;34m(self, dtype, copy, errors)\u001b[0m\n\u001b[0;32m   6511\u001b[0m \u001b[39melse\u001b[39;00m:\n\u001b[0;32m   6512\u001b[0m     \u001b[39mtry\u001b[39;00m:\n\u001b[1;32m-> 6513\u001b[0m         res_col \u001b[39m=\u001b[39m col\u001b[39m.\u001b[39;49mastype(dtype\u001b[39m=\u001b[39;49mcdt, copy\u001b[39m=\u001b[39;49mcopy, errors\u001b[39m=\u001b[39;49merrors)\n\u001b[0;32m   6514\u001b[0m     \u001b[39mexcept\u001b[39;00m \u001b[39mValueError\u001b[39;00m \u001b[39mas\u001b[39;00m ex:\n\u001b[0;32m   6515\u001b[0m         ex\u001b[39m.\u001b[39margs \u001b[39m=\u001b[39m (\n\u001b[0;32m   6516\u001b[0m             \u001b[39mf\u001b[39m\u001b[39m\"\u001b[39m\u001b[39m{\u001b[39;00mex\u001b[39m}\u001b[39;00m\u001b[39m: Error while type casting for column \u001b[39m\u001b[39m'\u001b[39m\u001b[39m{\u001b[39;00mcol_name\u001b[39m}\u001b[39;00m\u001b[39m'\u001b[39m\u001b[39m\"\u001b[39m,\n\u001b[0;32m   6517\u001b[0m         )\n",
      "File \u001b[1;32m~\\AppData\\Roaming\\Python\\Python310\\site-packages\\pandas\\core\\generic.py:6534\u001b[0m, in \u001b[0;36mNDFrame.astype\u001b[1;34m(self, dtype, copy, errors)\u001b[0m\n\u001b[0;32m   6530\u001b[0m     results \u001b[39m=\u001b[39m [ser\u001b[39m.\u001b[39mastype(dtype, copy\u001b[39m=\u001b[39mcopy) \u001b[39mfor\u001b[39;00m _, ser \u001b[39min\u001b[39;00m \u001b[39mself\u001b[39m\u001b[39m.\u001b[39mitems()]\n\u001b[0;32m   6532\u001b[0m \u001b[39melse\u001b[39;00m:\n\u001b[0;32m   6533\u001b[0m     \u001b[39m# else, only a single dtype is given\u001b[39;00m\n\u001b[1;32m-> 6534\u001b[0m     new_data \u001b[39m=\u001b[39m \u001b[39mself\u001b[39;49m\u001b[39m.\u001b[39;49m_mgr\u001b[39m.\u001b[39;49mastype(dtype\u001b[39m=\u001b[39;49mdtype, copy\u001b[39m=\u001b[39;49mcopy, errors\u001b[39m=\u001b[39;49merrors)\n\u001b[0;32m   6535\u001b[0m     res \u001b[39m=\u001b[39m \u001b[39mself\u001b[39m\u001b[39m.\u001b[39m_constructor_from_mgr(new_data, axes\u001b[39m=\u001b[39mnew_data\u001b[39m.\u001b[39maxes)\n\u001b[0;32m   6536\u001b[0m     \u001b[39mreturn\u001b[39;00m res\u001b[39m.\u001b[39m__finalize__(\u001b[39mself\u001b[39m, method\u001b[39m=\u001b[39m\u001b[39m\"\u001b[39m\u001b[39mastype\u001b[39m\u001b[39m\"\u001b[39m)\n",
      "File \u001b[1;32m~\\AppData\\Roaming\\Python\\Python310\\site-packages\\pandas\\core\\internals\\managers.py:414\u001b[0m, in \u001b[0;36mBaseBlockManager.astype\u001b[1;34m(self, dtype, copy, errors)\u001b[0m\n\u001b[0;32m    411\u001b[0m \u001b[39melif\u001b[39;00m using_copy_on_write():\n\u001b[0;32m    412\u001b[0m     copy \u001b[39m=\u001b[39m \u001b[39mFalse\u001b[39;00m\n\u001b[1;32m--> 414\u001b[0m \u001b[39mreturn\u001b[39;00m \u001b[39mself\u001b[39;49m\u001b[39m.\u001b[39;49mapply(\n\u001b[0;32m    415\u001b[0m     \u001b[39m\"\u001b[39;49m\u001b[39mastype\u001b[39;49m\u001b[39m\"\u001b[39;49m,\n\u001b[0;32m    416\u001b[0m     dtype\u001b[39m=\u001b[39;49mdtype,\n\u001b[0;32m    417\u001b[0m     copy\u001b[39m=\u001b[39;49mcopy,\n\u001b[0;32m    418\u001b[0m     errors\u001b[39m=\u001b[39;49merrors,\n\u001b[0;32m    419\u001b[0m     using_cow\u001b[39m=\u001b[39;49musing_copy_on_write(),\n\u001b[0;32m    420\u001b[0m )\n",
      "File \u001b[1;32m~\\AppData\\Roaming\\Python\\Python310\\site-packages\\pandas\\core\\internals\\managers.py:354\u001b[0m, in \u001b[0;36mBaseBlockManager.apply\u001b[1;34m(self, f, align_keys, **kwargs)\u001b[0m\n\u001b[0;32m    352\u001b[0m         applied \u001b[39m=\u001b[39m b\u001b[39m.\u001b[39mapply(f, \u001b[39m*\u001b[39m\u001b[39m*\u001b[39mkwargs)\n\u001b[0;32m    353\u001b[0m     \u001b[39melse\u001b[39;00m:\n\u001b[1;32m--> 354\u001b[0m         applied \u001b[39m=\u001b[39m \u001b[39mgetattr\u001b[39m(b, f)(\u001b[39m*\u001b[39m\u001b[39m*\u001b[39mkwargs)\n\u001b[0;32m    355\u001b[0m     result_blocks \u001b[39m=\u001b[39m extend_blocks(applied, result_blocks)\n\u001b[0;32m    357\u001b[0m out \u001b[39m=\u001b[39m \u001b[39mtype\u001b[39m(\u001b[39mself\u001b[39m)\u001b[39m.\u001b[39mfrom_blocks(result_blocks, \u001b[39mself\u001b[39m\u001b[39m.\u001b[39maxes)\n",
      "File \u001b[1;32m~\\AppData\\Roaming\\Python\\Python310\\site-packages\\pandas\\core\\internals\\blocks.py:616\u001b[0m, in \u001b[0;36mBlock.astype\u001b[1;34m(self, dtype, copy, errors, using_cow)\u001b[0m\n\u001b[0;32m    596\u001b[0m \u001b[39m\u001b[39m\u001b[39m\"\"\"\u001b[39;00m\n\u001b[0;32m    597\u001b[0m \u001b[39mCoerce to the new dtype.\u001b[39;00m\n\u001b[0;32m    598\u001b[0m \n\u001b[1;32m   (...)\u001b[0m\n\u001b[0;32m    612\u001b[0m \u001b[39mBlock\u001b[39;00m\n\u001b[0;32m    613\u001b[0m \u001b[39m\"\"\"\u001b[39;00m\n\u001b[0;32m    614\u001b[0m values \u001b[39m=\u001b[39m \u001b[39mself\u001b[39m\u001b[39m.\u001b[39mvalues\n\u001b[1;32m--> 616\u001b[0m new_values \u001b[39m=\u001b[39m astype_array_safe(values, dtype, copy\u001b[39m=\u001b[39;49mcopy, errors\u001b[39m=\u001b[39;49merrors)\n\u001b[0;32m    618\u001b[0m new_values \u001b[39m=\u001b[39m maybe_coerce_values(new_values)\n\u001b[0;32m    620\u001b[0m refs \u001b[39m=\u001b[39m \u001b[39mNone\u001b[39;00m\n",
      "File \u001b[1;32m~\\AppData\\Roaming\\Python\\Python310\\site-packages\\pandas\\core\\dtypes\\astype.py:238\u001b[0m, in \u001b[0;36mastype_array_safe\u001b[1;34m(values, dtype, copy, errors)\u001b[0m\n\u001b[0;32m    235\u001b[0m     dtype \u001b[39m=\u001b[39m dtype\u001b[39m.\u001b[39mnumpy_dtype\n\u001b[0;32m    237\u001b[0m \u001b[39mtry\u001b[39;00m:\n\u001b[1;32m--> 238\u001b[0m     new_values \u001b[39m=\u001b[39m astype_array(values, dtype, copy\u001b[39m=\u001b[39;49mcopy)\n\u001b[0;32m    239\u001b[0m \u001b[39mexcept\u001b[39;00m (\u001b[39mValueError\u001b[39;00m, \u001b[39mTypeError\u001b[39;00m):\n\u001b[0;32m    240\u001b[0m     \u001b[39m# e.g. _astype_nansafe can fail on object-dtype of strings\u001b[39;00m\n\u001b[0;32m    241\u001b[0m     \u001b[39m#  trying to convert to float\u001b[39;00m\n\u001b[0;32m    242\u001b[0m     \u001b[39mif\u001b[39;00m errors \u001b[39m==\u001b[39m \u001b[39m\"\u001b[39m\u001b[39mignore\u001b[39m\u001b[39m\"\u001b[39m:\n",
      "File \u001b[1;32m~\\AppData\\Roaming\\Python\\Python310\\site-packages\\pandas\\core\\dtypes\\astype.py:175\u001b[0m, in \u001b[0;36mastype_array\u001b[1;34m(values, dtype, copy)\u001b[0m\n\u001b[0;32m    173\u001b[0m \u001b[39mif\u001b[39;00m values\u001b[39m.\u001b[39mdtype \u001b[39m==\u001b[39m dtype:\n\u001b[0;32m    174\u001b[0m     \u001b[39mif\u001b[39;00m copy:\n\u001b[1;32m--> 175\u001b[0m         \u001b[39mreturn\u001b[39;00m values\u001b[39m.\u001b[39;49mcopy()\n\u001b[0;32m    176\u001b[0m     \u001b[39mreturn\u001b[39;00m values\n\u001b[0;32m    178\u001b[0m \u001b[39mif\u001b[39;00m \u001b[39mnot\u001b[39;00m \u001b[39misinstance\u001b[39m(values, np\u001b[39m.\u001b[39mndarray):\n\u001b[0;32m    179\u001b[0m     \u001b[39m# i.e. ExtensionArray\u001b[39;00m\n",
      "\u001b[1;31mKeyboardInterrupt\u001b[0m: "
     ]
    }
   ],
   "source": [
    "if not os.path.exists(\"csv\"):\n",
    "    os.makedirs(\"csv\")\n",
    "for year in [2016,2017, 2018, 2019]: # 2020 has been excluded to be reserved as the test set\n",
    "    read_a_season(\"../nhl_data/\",year).to_csv('csv/tidy_{season}.csv'.format(season = year), sep = ',', index = False)"
   ]
  },
  {
   "cell_type": "code",
   "execution_count": 27,
   "metadata": {},
   "outputs": [
    {
     "name": "stderr",
     "output_type": "stream",
     "text": [
      "Loading files:   0%|          | 0/4 [00:00<?, ?file/s]"
     ]
    },
    {
     "name": "stderr",
     "output_type": "stream",
     "text": [
      "Loading files: 100%|██████████| 4/4 [00:01<00:00,  3.15file/s]\n"
     ]
    }
   ],
   "source": [
    "directory = 'csv'\n",
    "\n",
    "# Get a list of csv file names within the directory\n",
    "csv_files = [f for f in os.listdir(directory) if f.endswith('.csv')]\n",
    "\n",
    "# Sort the list of csv files\n",
    "csv_files.sort()\n",
    "\n",
    "# List to hold your DataFrames\n",
    "dataframes_list = []\n",
    "\n",
    "# Loop over the sorted list of csv files with tqdm for progress indication\n",
    "for filename in tqdm(csv_files, desc=\"Loading files\", unit=\"file\"):\n",
    "    file_path = os.path.join(directory, filename)\n",
    "    df = pd.read_csv(file_path)\n",
    "\n",
    "    # Filter the DataFrame to only include rows where 5th and 6th digits of 'game_id' are '02' (Regular Season)\n",
    "    df = df[df['game_id'].astype(str).str[4:6] == '02']\n",
    "\n",
    "    dataframes_list.append(df)\n",
    "\n",
    "# Concatenate all the DataFrames in the list into a single DataFrame\n",
    "train_val_df = pd.concat(dataframes_list, ignore_index=True)\n",
    "\n",
    "# Sort the DataFrame first by 'game_id' and then by 'event_idx'\n",
    "train_val_df = train_val_df.sort_values(by=['game_id', 'event_idx'])\n",
    "\n",
    "# Reset the index of the sorted DataFrame\n",
    "train_val_df = train_val_df.reset_index(drop=True)"
   ]
  },
  {
   "cell_type": "markdown",
   "metadata": {},
   "source": [
    "### Load datas and One-Hot encoding"
   ]
  },
  {
   "cell_type": "code",
   "execution_count": 28,
   "metadata": {},
   "outputs": [],
   "source": [
    "train_val_df=train_val_df[['game_time','period','x','y','shot_type','last_event_type',\n",
    "       'x_coord_last_event', 'y_coord_last_event', 'Time_from_the_last_event',\n",
    "       'Distance_from_the_last_event', 'Rebound', 'change_shot_angle', 'Speed',\n",
    "       'shot_dist','angle_net', 'is_goal']]"
   ]
  },
  {
   "cell_type": "code",
   "execution_count": 29,
   "metadata": {},
   "outputs": [],
   "source": [
    "train_val_shot_type_oh = onehot_generator(train_val_df[['shot_type']])\n",
    "train_val_last_event_type_oh = onehot_generator(train_val_df[['last_event_type']])\n",
    "train_val_df= train_val_df.drop(columns=['shot_type','last_event_type'])\n",
    "train_val_df = pd.concat([train_val_df,\n",
    "                       train_val_shot_type_oh.set_index(train_val_df.index),\n",
    "                       train_val_last_event_type_oh.set_index(train_val_df.index)],axis=1)"
   ]
  },
  {
   "cell_type": "code",
   "execution_count": 30,
   "metadata": {},
   "outputs": [
    {
     "data": {
      "text/html": [
       "<div>\n",
       "<style scoped>\n",
       "    .dataframe tbody tr th:only-of-type {\n",
       "        vertical-align: middle;\n",
       "    }\n",
       "\n",
       "    .dataframe tbody tr th {\n",
       "        vertical-align: top;\n",
       "    }\n",
       "\n",
       "    .dataframe thead th {\n",
       "        text-align: right;\n",
       "    }\n",
       "</style>\n",
       "<table border=\"1\" class=\"dataframe\">\n",
       "  <thead>\n",
       "    <tr style=\"text-align: right;\">\n",
       "      <th></th>\n",
       "      <th>game_time</th>\n",
       "      <th>period</th>\n",
       "      <th>x</th>\n",
       "      <th>y</th>\n",
       "      <th>x_coord_last_event</th>\n",
       "      <th>y_coord_last_event</th>\n",
       "      <th>Time_from_the_last_event</th>\n",
       "      <th>Distance_from_the_last_event</th>\n",
       "      <th>Rebound</th>\n",
       "      <th>change_shot_angle</th>\n",
       "      <th>...</th>\n",
       "      <th>last_event_type_Missed Shot</th>\n",
       "      <th>last_event_type_Official Challenge</th>\n",
       "      <th>last_event_type_Penalty</th>\n",
       "      <th>last_event_type_Period End</th>\n",
       "      <th>last_event_type_Period Ready</th>\n",
       "      <th>last_event_type_Period Start</th>\n",
       "      <th>last_event_type_Shootout Complete</th>\n",
       "      <th>last_event_type_Shot</th>\n",
       "      <th>last_event_type_Stoppage</th>\n",
       "      <th>last_event_type_Takeaway</th>\n",
       "    </tr>\n",
       "  </thead>\n",
       "  <tbody>\n",
       "    <tr>\n",
       "      <th>0</th>\n",
       "      <td>71</td>\n",
       "      <td>1</td>\n",
       "      <td>-77.0</td>\n",
       "      <td>5.0</td>\n",
       "      <td>-61.0</td>\n",
       "      <td>11.0</td>\n",
       "      <td>1</td>\n",
       "      <td>17.088007</td>\n",
       "      <td>False</td>\n",
       "      <td>NaN</td>\n",
       "      <td>...</td>\n",
       "      <td>0</td>\n",
       "      <td>0</td>\n",
       "      <td>0</td>\n",
       "      <td>0</td>\n",
       "      <td>0</td>\n",
       "      <td>0</td>\n",
       "      <td>0</td>\n",
       "      <td>0</td>\n",
       "      <td>0</td>\n",
       "      <td>0</td>\n",
       "    </tr>\n",
       "    <tr>\n",
       "      <th>1</th>\n",
       "      <td>173</td>\n",
       "      <td>1</td>\n",
       "      <td>86.0</td>\n",
       "      <td>13.0</td>\n",
       "      <td>54.0</td>\n",
       "      <td>-5.0</td>\n",
       "      <td>5</td>\n",
       "      <td>36.715120</td>\n",
       "      <td>False</td>\n",
       "      <td>NaN</td>\n",
       "      <td>...</td>\n",
       "      <td>0</td>\n",
       "      <td>0</td>\n",
       "      <td>0</td>\n",
       "      <td>0</td>\n",
       "      <td>0</td>\n",
       "      <td>0</td>\n",
       "      <td>0</td>\n",
       "      <td>0</td>\n",
       "      <td>0</td>\n",
       "      <td>0</td>\n",
       "    </tr>\n",
       "    <tr>\n",
       "      <th>2</th>\n",
       "      <td>241</td>\n",
       "      <td>1</td>\n",
       "      <td>23.0</td>\n",
       "      <td>-38.0</td>\n",
       "      <td>-72.0</td>\n",
       "      <td>0.0</td>\n",
       "      <td>18</td>\n",
       "      <td>102.318131</td>\n",
       "      <td>False</td>\n",
       "      <td>NaN</td>\n",
       "      <td>...</td>\n",
       "      <td>1</td>\n",
       "      <td>0</td>\n",
       "      <td>0</td>\n",
       "      <td>0</td>\n",
       "      <td>0</td>\n",
       "      <td>0</td>\n",
       "      <td>0</td>\n",
       "      <td>0</td>\n",
       "      <td>0</td>\n",
       "      <td>0</td>\n",
       "    </tr>\n",
       "    <tr>\n",
       "      <th>3</th>\n",
       "      <td>286</td>\n",
       "      <td>1</td>\n",
       "      <td>33.0</td>\n",
       "      <td>-15.0</td>\n",
       "      <td>77.0</td>\n",
       "      <td>-2.0</td>\n",
       "      <td>19</td>\n",
       "      <td>45.880279</td>\n",
       "      <td>False</td>\n",
       "      <td>NaN</td>\n",
       "      <td>...</td>\n",
       "      <td>1</td>\n",
       "      <td>0</td>\n",
       "      <td>0</td>\n",
       "      <td>0</td>\n",
       "      <td>0</td>\n",
       "      <td>0</td>\n",
       "      <td>0</td>\n",
       "      <td>0</td>\n",
       "      <td>0</td>\n",
       "      <td>0</td>\n",
       "    </tr>\n",
       "    <tr>\n",
       "      <th>4</th>\n",
       "      <td>406</td>\n",
       "      <td>1</td>\n",
       "      <td>-34.0</td>\n",
       "      <td>28.0</td>\n",
       "      <td>47.0</td>\n",
       "      <td>34.0</td>\n",
       "      <td>16</td>\n",
       "      <td>81.221918</td>\n",
       "      <td>False</td>\n",
       "      <td>NaN</td>\n",
       "      <td>...</td>\n",
       "      <td>0</td>\n",
       "      <td>0</td>\n",
       "      <td>0</td>\n",
       "      <td>0</td>\n",
       "      <td>0</td>\n",
       "      <td>0</td>\n",
       "      <td>0</td>\n",
       "      <td>0</td>\n",
       "      <td>0</td>\n",
       "      <td>0</td>\n",
       "    </tr>\n",
       "    <tr>\n",
       "      <th>...</th>\n",
       "      <td>...</td>\n",
       "      <td>...</td>\n",
       "      <td>...</td>\n",
       "      <td>...</td>\n",
       "      <td>...</td>\n",
       "      <td>...</td>\n",
       "      <td>...</td>\n",
       "      <td>...</td>\n",
       "      <td>...</td>\n",
       "      <td>...</td>\n",
       "      <td>...</td>\n",
       "      <td>...</td>\n",
       "      <td>...</td>\n",
       "      <td>...</td>\n",
       "      <td>...</td>\n",
       "      <td>...</td>\n",
       "      <td>...</td>\n",
       "      <td>...</td>\n",
       "      <td>...</td>\n",
       "      <td>...</td>\n",
       "      <td>...</td>\n",
       "    </tr>\n",
       "    <tr>\n",
       "      <th>305809</th>\n",
       "      <td>1045</td>\n",
       "      <td>3</td>\n",
       "      <td>77.0</td>\n",
       "      <td>-23.0</td>\n",
       "      <td>-72.0</td>\n",
       "      <td>-21.0</td>\n",
       "      <td>21</td>\n",
       "      <td>149.013422</td>\n",
       "      <td>False</td>\n",
       "      <td>NaN</td>\n",
       "      <td>...</td>\n",
       "      <td>0</td>\n",
       "      <td>0</td>\n",
       "      <td>0</td>\n",
       "      <td>0</td>\n",
       "      <td>0</td>\n",
       "      <td>0</td>\n",
       "      <td>0</td>\n",
       "      <td>0</td>\n",
       "      <td>0</td>\n",
       "      <td>0</td>\n",
       "    </tr>\n",
       "    <tr>\n",
       "      <th>305810</th>\n",
       "      <td>1080</td>\n",
       "      <td>3</td>\n",
       "      <td>-76.0</td>\n",
       "      <td>38.0</td>\n",
       "      <td>-95.0</td>\n",
       "      <td>-17.0</td>\n",
       "      <td>16</td>\n",
       "      <td>58.189346</td>\n",
       "      <td>False</td>\n",
       "      <td>NaN</td>\n",
       "      <td>...</td>\n",
       "      <td>0</td>\n",
       "      <td>0</td>\n",
       "      <td>0</td>\n",
       "      <td>0</td>\n",
       "      <td>0</td>\n",
       "      <td>0</td>\n",
       "      <td>0</td>\n",
       "      <td>0</td>\n",
       "      <td>0</td>\n",
       "      <td>0</td>\n",
       "    </tr>\n",
       "    <tr>\n",
       "      <th>305811</th>\n",
       "      <td>1082</td>\n",
       "      <td>3</td>\n",
       "      <td>-79.0</td>\n",
       "      <td>10.0</td>\n",
       "      <td>-76.0</td>\n",
       "      <td>38.0</td>\n",
       "      <td>2</td>\n",
       "      <td>28.160256</td>\n",
       "      <td>True</td>\n",
       "      <td>26.113913</td>\n",
       "      <td>...</td>\n",
       "      <td>0</td>\n",
       "      <td>0</td>\n",
       "      <td>0</td>\n",
       "      <td>0</td>\n",
       "      <td>0</td>\n",
       "      <td>0</td>\n",
       "      <td>0</td>\n",
       "      <td>1</td>\n",
       "      <td>0</td>\n",
       "      <td>0</td>\n",
       "    </tr>\n",
       "    <tr>\n",
       "      <th>305812</th>\n",
       "      <td>1170</td>\n",
       "      <td>3</td>\n",
       "      <td>81.0</td>\n",
       "      <td>-7.0</td>\n",
       "      <td>-60.0</td>\n",
       "      <td>40.0</td>\n",
       "      <td>32</td>\n",
       "      <td>148.627050</td>\n",
       "      <td>False</td>\n",
       "      <td>NaN</td>\n",
       "      <td>...</td>\n",
       "      <td>1</td>\n",
       "      <td>0</td>\n",
       "      <td>0</td>\n",
       "      <td>0</td>\n",
       "      <td>0</td>\n",
       "      <td>0</td>\n",
       "      <td>0</td>\n",
       "      <td>0</td>\n",
       "      <td>0</td>\n",
       "      <td>0</td>\n",
       "    </tr>\n",
       "    <tr>\n",
       "      <th>305813</th>\n",
       "      <td>1219</td>\n",
       "      <td>3</td>\n",
       "      <td>67.0</td>\n",
       "      <td>-14.0</td>\n",
       "      <td>-78.0</td>\n",
       "      <td>29.0</td>\n",
       "      <td>24</td>\n",
       "      <td>151.241529</td>\n",
       "      <td>False</td>\n",
       "      <td>NaN</td>\n",
       "      <td>...</td>\n",
       "      <td>1</td>\n",
       "      <td>0</td>\n",
       "      <td>0</td>\n",
       "      <td>0</td>\n",
       "      <td>0</td>\n",
       "      <td>0</td>\n",
       "      <td>0</td>\n",
       "      <td>0</td>\n",
       "      <td>0</td>\n",
       "      <td>0</td>\n",
       "    </tr>\n",
       "  </tbody>\n",
       "</table>\n",
       "<p>305814 rows × 38 columns</p>\n",
       "</div>"
      ],
      "text/plain": [
       "        game_time  period     x     y  x_coord_last_event  y_coord_last_event  \\\n",
       "0              71       1 -77.0   5.0               -61.0                11.0   \n",
       "1             173       1  86.0  13.0                54.0                -5.0   \n",
       "2             241       1  23.0 -38.0               -72.0                 0.0   \n",
       "3             286       1  33.0 -15.0                77.0                -2.0   \n",
       "4             406       1 -34.0  28.0                47.0                34.0   \n",
       "...           ...     ...   ...   ...                 ...                 ...   \n",
       "305809       1045       3  77.0 -23.0               -72.0               -21.0   \n",
       "305810       1080       3 -76.0  38.0               -95.0               -17.0   \n",
       "305811       1082       3 -79.0  10.0               -76.0                38.0   \n",
       "305812       1170       3  81.0  -7.0               -60.0                40.0   \n",
       "305813       1219       3  67.0 -14.0               -78.0                29.0   \n",
       "\n",
       "        Time_from_the_last_event  Distance_from_the_last_event  Rebound  \\\n",
       "0                              1                     17.088007    False   \n",
       "1                              5                     36.715120    False   \n",
       "2                             18                    102.318131    False   \n",
       "3                             19                     45.880279    False   \n",
       "4                             16                     81.221918    False   \n",
       "...                          ...                           ...      ...   \n",
       "305809                        21                    149.013422    False   \n",
       "305810                        16                     58.189346    False   \n",
       "305811                         2                     28.160256     True   \n",
       "305812                        32                    148.627050    False   \n",
       "305813                        24                    151.241529    False   \n",
       "\n",
       "        change_shot_angle  ...  last_event_type_Missed Shot  \\\n",
       "0                     NaN  ...                            0   \n",
       "1                     NaN  ...                            0   \n",
       "2                     NaN  ...                            1   \n",
       "3                     NaN  ...                            1   \n",
       "4                     NaN  ...                            0   \n",
       "...                   ...  ...                          ...   \n",
       "305809                NaN  ...                            0   \n",
       "305810                NaN  ...                            0   \n",
       "305811          26.113913  ...                            0   \n",
       "305812                NaN  ...                            1   \n",
       "305813                NaN  ...                            1   \n",
       "\n",
       "        last_event_type_Official Challenge  last_event_type_Penalty  \\\n",
       "0                                        0                        0   \n",
       "1                                        0                        0   \n",
       "2                                        0                        0   \n",
       "3                                        0                        0   \n",
       "4                                        0                        0   \n",
       "...                                    ...                      ...   \n",
       "305809                                   0                        0   \n",
       "305810                                   0                        0   \n",
       "305811                                   0                        0   \n",
       "305812                                   0                        0   \n",
       "305813                                   0                        0   \n",
       "\n",
       "        last_event_type_Period End  last_event_type_Period Ready  \\\n",
       "0                                0                             0   \n",
       "1                                0                             0   \n",
       "2                                0                             0   \n",
       "3                                0                             0   \n",
       "4                                0                             0   \n",
       "...                            ...                           ...   \n",
       "305809                           0                             0   \n",
       "305810                           0                             0   \n",
       "305811                           0                             0   \n",
       "305812                           0                             0   \n",
       "305813                           0                             0   \n",
       "\n",
       "        last_event_type_Period Start  last_event_type_Shootout Complete  \\\n",
       "0                                  0                                  0   \n",
       "1                                  0                                  0   \n",
       "2                                  0                                  0   \n",
       "3                                  0                                  0   \n",
       "4                                  0                                  0   \n",
       "...                              ...                                ...   \n",
       "305809                             0                                  0   \n",
       "305810                             0                                  0   \n",
       "305811                             0                                  0   \n",
       "305812                             0                                  0   \n",
       "305813                             0                                  0   \n",
       "\n",
       "        last_event_type_Shot  last_event_type_Stoppage  \\\n",
       "0                          0                         0   \n",
       "1                          0                         0   \n",
       "2                          0                         0   \n",
       "3                          0                         0   \n",
       "4                          0                         0   \n",
       "...                      ...                       ...   \n",
       "305809                     0                         0   \n",
       "305810                     0                         0   \n",
       "305811                     1                         0   \n",
       "305812                     0                         0   \n",
       "305813                     0                         0   \n",
       "\n",
       "        last_event_type_Takeaway  \n",
       "0                              0  \n",
       "1                              0  \n",
       "2                              0  \n",
       "3                              0  \n",
       "4                              0  \n",
       "...                          ...  \n",
       "305809                         0  \n",
       "305810                         0  \n",
       "305811                         0  \n",
       "305812                         0  \n",
       "305813                         0  \n",
       "\n",
       "[305814 rows x 38 columns]"
      ]
     },
     "execution_count": 30,
     "metadata": {},
     "output_type": "execute_result"
    }
   ],
   "source": [
    "train_val_df"
   ]
  },
  {
   "cell_type": "markdown",
   "metadata": {},
   "source": [
    "### Data Pre-processing I: Drop `change_shot_angle` column where the majority of datas are NaN, then drop NaN values"
   ]
  },
  {
   "cell_type": "code",
   "execution_count": 31,
   "metadata": {},
   "outputs": [
    {
     "data": {
      "text/plain": [
       "288551"
      ]
     },
     "execution_count": 31,
     "metadata": {},
     "output_type": "execute_result"
    }
   ],
   "source": [
    "train_val_df = train_val_df.drop(columns=['change_shot_angle'])\n",
    "train_val_df = train_val_df.dropna()\n",
    "len(train_val_df )"
   ]
  },
  {
   "cell_type": "code",
   "execution_count": 32,
   "metadata": {},
   "outputs": [],
   "source": [
    "train_X,train_Y,val_X,val_Y = split_data(train_val_df,['game_time', 'period', 'x', 'y', 'x_coord_last_event',\n",
    "       'y_coord_last_event', 'Time_from_the_last_event',\n",
    "       'Distance_from_the_last_event', 'Rebound', 'Speed',\n",
    "       'shot_dist','angle_net', 'shot_type_Backhand', 'shot_type_Deflected',\n",
    "       'shot_type_Slap Shot', 'shot_type_Snap Shot', 'shot_type_Tip-In',\n",
    "       'shot_type_Wrap-around', 'shot_type_Wrist Shot', 'shot_type_nan',\n",
    "       'last_event_type_Blocked Shot', 'last_event_type_Faceoff',\n",
    "       'last_event_type_Game Official', 'last_event_type_Giveaway',\n",
    "       'last_event_type_Goal', 'last_event_type_Hit',\n",
    "       'last_event_type_Missed Shot', 'last_event_type_Official Challenge',\n",
    "       'last_event_type_Penalty', 'last_event_type_Period End',\n",
    "       'last_event_type_Period Ready', 'last_event_type_Period Start',\n",
    "       'last_event_type_Shootout Complete', 'last_event_type_Shot',\n",
    "       'last_event_type_Stoppage', 'last_event_type_Takeaway'],0.20,False)"
   ]
  },
  {
   "cell_type": "markdown",
   "metadata": {},
   "source": [
    "### Data Pre-processing II: Using Variance filter method to filter low variance features"
   ]
  },
  {
   "cell_type": "code",
   "execution_count": 33,
   "metadata": {},
   "outputs": [],
   "source": [
    "selector = VarianceThreshold(0.8 *(1-0.8))\n",
    "X_train_pre = selector.fit_transform(train_X)\n",
    "train_X_1 = train_X.loc[:,selector.get_support()]\n",
    "val_X_1 = val_X.loc[:,selector.get_support()]"
   ]
  },
  {
   "cell_type": "markdown",
   "metadata": {},
   "source": [
    "### Initial Model"
   ]
  },
  {
   "cell_type": "code",
   "execution_count": 34,
   "metadata": {},
   "outputs": [],
   "source": [
    "from sklearn import tree"
   ]
  },
  {
   "cell_type": "code",
   "execution_count": 35,
   "metadata": {},
   "outputs": [],
   "source": [
    "clf = tree.DecisionTreeClassifier()"
   ]
  },
  {
   "cell_type": "markdown",
   "metadata": {},
   "source": [
    "### Hyperparameters to tune for Decision Tree\n",
    "- class_weight: Important when datas are inbalance which is our case.\n",
    "- criterion\n",
    "- max_depth\n",
    "- min_samples_split\n",
    "- min_samples_leaf"
   ]
  },
  {
   "cell_type": "code",
   "execution_count": 36,
   "metadata": {},
   "outputs": [],
   "source": [
    "params = {\n",
    "    'class_weight':[{0:1,1:1},{0:3,1:1},{0:6,1:1},{0:12,1:1},{0:50,1:1},{0:100,1:1},{0:1000,1:1}],\n",
    "    'criterion':['gini','entropy'],\n",
    "    'max_depth':[1,5,10,15,20,40],\n",
    "    'min_samples_split':[2,8,16,32,64],\n",
    "    'min_samples_leaf':[1,2,4,16,32,64],\n",
    "}"
   ]
  },
  {
   "cell_type": "markdown",
   "metadata": {},
   "source": [
    "### We use Randomized Search here regarding the large amount of possible hyperparamters combination"
   ]
  },
  {
   "cell_type": "code",
   "execution_count": 37,
   "metadata": {},
   "outputs": [],
   "source": [
    "dt_rs = RandomizedSearchCV(clf,params,cv=3,n_jobs=-1,scoring='roc_auc',n_iter=100)"
   ]
  },
  {
   "cell_type": "code",
   "execution_count": 38,
   "metadata": {},
   "outputs": [],
   "source": [
    "dt_rs.fit(train_X_1,train_Y)"
   ]
  },
  {
   "cell_type": "code",
   "execution_count": null,
   "metadata": {},
   "outputs": [
    {
     "name": "stdout",
     "output_type": "stream",
     "text": [
      "0.7259141755956818\n"
     ]
    }
   ],
   "source": [
    "print(dt_rs.best_score_)"
   ]
  },
  {
   "cell_type": "code",
   "execution_count": null,
   "metadata": {},
   "outputs": [
    {
     "data": {
      "text/plain": [
       "{'min_samples_split': 8,\n",
       " 'min_samples_leaf': 2,\n",
       " 'max_depth': 10,\n",
       " 'criterion': 'gini',\n",
       " 'class_weight': {0: 12, 1: 1}}"
      ]
     },
     "execution_count": 17,
     "metadata": {},
     "output_type": "execute_result"
    }
   ],
   "source": [
    "best_params1 = dt_rs.best_params_\n",
    "best_params1 "
   ]
  },
  {
   "cell_type": "code",
   "execution_count": null,
   "metadata": {},
   "outputs": [],
   "source": [
    "dt_2 = tree.DecisionTreeClassifier(**best_params1)"
   ]
  },
  {
   "cell_type": "markdown",
   "metadata": {},
   "source": [
    "### Feature Selection: After applying wrapper method and optimizing algorithm, we apply a Wrapper method(RFE) to then reduce the half of the features."
   ]
  },
  {
   "cell_type": "code",
   "execution_count": null,
   "metadata": {},
   "outputs": [],
   "source": [
    "rfe_selector = RFE(dt_2, n_features_to_select=6)"
   ]
  },
  {
   "cell_type": "code",
   "execution_count": null,
   "metadata": {},
   "outputs": [],
   "source": [
    "res = rfe_selector.fit_transform(train_X_1,train_Y)"
   ]
  },
  {
   "cell_type": "code",
   "execution_count": null,
   "metadata": {},
   "outputs": [
    {
     "data": {
      "text/html": [
       "<div>\n",
       "<style scoped>\n",
       "    .dataframe tbody tr th:only-of-type {\n",
       "        vertical-align: middle;\n",
       "    }\n",
       "\n",
       "    .dataframe tbody tr th {\n",
       "        vertical-align: top;\n",
       "    }\n",
       "\n",
       "    .dataframe thead th {\n",
       "        text-align: right;\n",
       "    }\n",
       "</style>\n",
       "<table border=\"1\" class=\"dataframe\">\n",
       "  <thead>\n",
       "    <tr style=\"text-align: right;\">\n",
       "      <th></th>\n",
       "      <th>game_time</th>\n",
       "      <th>y</th>\n",
       "      <th>Time_from_the_last_event</th>\n",
       "      <th>Distance_from_the_last_event</th>\n",
       "      <th>Speed</th>\n",
       "      <th>shot_dist</th>\n",
       "    </tr>\n",
       "  </thead>\n",
       "  <tbody>\n",
       "    <tr>\n",
       "      <th>203692</th>\n",
       "      <td>1097</td>\n",
       "      <td>-5.0</td>\n",
       "      <td>5</td>\n",
       "      <td>37.363083</td>\n",
       "      <td>7.472617</td>\n",
       "      <td>28.442925</td>\n",
       "    </tr>\n",
       "    <tr>\n",
       "      <th>192732</th>\n",
       "      <td>219</td>\n",
       "      <td>18.0</td>\n",
       "      <td>15</td>\n",
       "      <td>122.000000</td>\n",
       "      <td>8.133333</td>\n",
       "      <td>68.410526</td>\n",
       "    </tr>\n",
       "    <tr>\n",
       "      <th>242616</th>\n",
       "      <td>110</td>\n",
       "      <td>0.0</td>\n",
       "      <td>7</td>\n",
       "      <td>5.385165</td>\n",
       "      <td>0.769309</td>\n",
       "      <td>20.000000</td>\n",
       "    </tr>\n",
       "    <tr>\n",
       "      <th>160939</th>\n",
       "      <td>739</td>\n",
       "      <td>-36.0</td>\n",
       "      <td>37</td>\n",
       "      <td>135.665029</td>\n",
       "      <td>3.666622</td>\n",
       "      <td>43.829214</td>\n",
       "    </tr>\n",
       "    <tr>\n",
       "      <th>252090</th>\n",
       "      <td>78</td>\n",
       "      <td>-14.0</td>\n",
       "      <td>38</td>\n",
       "      <td>65.513357</td>\n",
       "      <td>1.724036</td>\n",
       "      <td>28.653098</td>\n",
       "    </tr>\n",
       "    <tr>\n",
       "      <th>...</th>\n",
       "      <td>...</td>\n",
       "      <td>...</td>\n",
       "      <td>...</td>\n",
       "      <td>...</td>\n",
       "      <td>...</td>\n",
       "      <td>...</td>\n",
       "    </tr>\n",
       "    <tr>\n",
       "      <th>149180</th>\n",
       "      <td>1200</td>\n",
       "      <td>3.0</td>\n",
       "      <td>11</td>\n",
       "      <td>27.294688</td>\n",
       "      <td>2.481335</td>\n",
       "      <td>12.369317</td>\n",
       "    </tr>\n",
       "    <tr>\n",
       "      <th>96703</th>\n",
       "      <td>187</td>\n",
       "      <td>0.0</td>\n",
       "      <td>1</td>\n",
       "      <td>31.144823</td>\n",
       "      <td>31.144823</td>\n",
       "      <td>13.000000</td>\n",
       "    </tr>\n",
       "    <tr>\n",
       "      <th>144851</th>\n",
       "      <td>763</td>\n",
       "      <td>-10.0</td>\n",
       "      <td>7</td>\n",
       "      <td>62.625873</td>\n",
       "      <td>8.946553</td>\n",
       "      <td>79.630396</td>\n",
       "    </tr>\n",
       "    <tr>\n",
       "      <th>91157</th>\n",
       "      <td>324</td>\n",
       "      <td>27.0</td>\n",
       "      <td>14</td>\n",
       "      <td>14.866069</td>\n",
       "      <td>1.061862</td>\n",
       "      <td>43.416587</td>\n",
       "    </tr>\n",
       "    <tr>\n",
       "      <th>216205</th>\n",
       "      <td>879</td>\n",
       "      <td>-35.0</td>\n",
       "      <td>9</td>\n",
       "      <td>65.513357</td>\n",
       "      <td>7.279262</td>\n",
       "      <td>66.887966</td>\n",
       "    </tr>\n",
       "  </tbody>\n",
       "</table>\n",
       "<p>57711 rows × 6 columns</p>\n",
       "</div>"
      ],
      "text/plain": [
       "        game_time     y  Time_from_the_last_event  \\\n",
       "203692       1097  -5.0                         5   \n",
       "192732        219  18.0                        15   \n",
       "242616        110   0.0                         7   \n",
       "160939        739 -36.0                        37   \n",
       "252090         78 -14.0                        38   \n",
       "...           ...   ...                       ...   \n",
       "149180       1200   3.0                        11   \n",
       "96703         187   0.0                         1   \n",
       "144851        763 -10.0                         7   \n",
       "91157         324  27.0                        14   \n",
       "216205        879 -35.0                         9   \n",
       "\n",
       "        Distance_from_the_last_event      Speed  shot_dist  \n",
       "203692                     37.363083   7.472617  28.442925  \n",
       "192732                    122.000000   8.133333  68.410526  \n",
       "242616                      5.385165   0.769309  20.000000  \n",
       "160939                    135.665029   3.666622  43.829214  \n",
       "252090                     65.513357   1.724036  28.653098  \n",
       "...                              ...        ...        ...  \n",
       "149180                     27.294688   2.481335  12.369317  \n",
       "96703                      31.144823  31.144823  13.000000  \n",
       "144851                     62.625873   8.946553  79.630396  \n",
       "91157                      14.866069   1.061862  43.416587  \n",
       "216205                     65.513357   7.279262  66.887966  \n",
       "\n",
       "[57711 rows x 6 columns]"
      ]
     },
     "execution_count": 21,
     "metadata": {},
     "output_type": "execute_result"
    }
   ],
   "source": [
    "train_X_rfe = train_X_1.iloc[:,rfe_selector.get_support()]\n",
    "val_X_rfe= val_X_1.iloc[:,rfe_selector.get_support()]\n",
    "val_X_rfe"
   ]
  },
  {
   "cell_type": "markdown",
   "metadata": {},
   "source": [
    "### Use the optimized model and selected Features to re-train a new Model"
   ]
  },
  {
   "cell_type": "code",
   "execution_count": null,
   "metadata": {},
   "outputs": [],
   "source": [
    "dt_3 = tree.DecisionTreeClassifier(**best_params1)"
   ]
  },
  {
   "cell_type": "code",
   "execution_count": null,
   "metadata": {},
   "outputs": [
    {
     "data": {
      "text/html": [
       "<style>#sk-container-id-2 {color: black;}#sk-container-id-2 pre{padding: 0;}#sk-container-id-2 div.sk-toggleable {background-color: white;}#sk-container-id-2 label.sk-toggleable__label {cursor: pointer;display: block;width: 100%;margin-bottom: 0;padding: 0.3em;box-sizing: border-box;text-align: center;}#sk-container-id-2 label.sk-toggleable__label-arrow:before {content: \"▸\";float: left;margin-right: 0.25em;color: #696969;}#sk-container-id-2 label.sk-toggleable__label-arrow:hover:before {color: black;}#sk-container-id-2 div.sk-estimator:hover label.sk-toggleable__label-arrow:before {color: black;}#sk-container-id-2 div.sk-toggleable__content {max-height: 0;max-width: 0;overflow: hidden;text-align: left;background-color: #f0f8ff;}#sk-container-id-2 div.sk-toggleable__content pre {margin: 0.2em;color: black;border-radius: 0.25em;background-color: #f0f8ff;}#sk-container-id-2 input.sk-toggleable__control:checked~div.sk-toggleable__content {max-height: 200px;max-width: 100%;overflow: auto;}#sk-container-id-2 input.sk-toggleable__control:checked~label.sk-toggleable__label-arrow:before {content: \"▾\";}#sk-container-id-2 div.sk-estimator input.sk-toggleable__control:checked~label.sk-toggleable__label {background-color: #d4ebff;}#sk-container-id-2 div.sk-label input.sk-toggleable__control:checked~label.sk-toggleable__label {background-color: #d4ebff;}#sk-container-id-2 input.sk-hidden--visually {border: 0;clip: rect(1px 1px 1px 1px);clip: rect(1px, 1px, 1px, 1px);height: 1px;margin: -1px;overflow: hidden;padding: 0;position: absolute;width: 1px;}#sk-container-id-2 div.sk-estimator {font-family: monospace;background-color: #f0f8ff;border: 1px dotted black;border-radius: 0.25em;box-sizing: border-box;margin-bottom: 0.5em;}#sk-container-id-2 div.sk-estimator:hover {background-color: #d4ebff;}#sk-container-id-2 div.sk-parallel-item::after {content: \"\";width: 100%;border-bottom: 1px solid gray;flex-grow: 1;}#sk-container-id-2 div.sk-label:hover label.sk-toggleable__label {background-color: #d4ebff;}#sk-container-id-2 div.sk-serial::before {content: \"\";position: absolute;border-left: 1px solid gray;box-sizing: border-box;top: 0;bottom: 0;left: 50%;z-index: 0;}#sk-container-id-2 div.sk-serial {display: flex;flex-direction: column;align-items: center;background-color: white;padding-right: 0.2em;padding-left: 0.2em;position: relative;}#sk-container-id-2 div.sk-item {position: relative;z-index: 1;}#sk-container-id-2 div.sk-parallel {display: flex;align-items: stretch;justify-content: center;background-color: white;position: relative;}#sk-container-id-2 div.sk-item::before, #sk-container-id-2 div.sk-parallel-item::before {content: \"\";position: absolute;border-left: 1px solid gray;box-sizing: border-box;top: 0;bottom: 0;left: 50%;z-index: -1;}#sk-container-id-2 div.sk-parallel-item {display: flex;flex-direction: column;z-index: 1;position: relative;background-color: white;}#sk-container-id-2 div.sk-parallel-item:first-child::after {align-self: flex-end;width: 50%;}#sk-container-id-2 div.sk-parallel-item:last-child::after {align-self: flex-start;width: 50%;}#sk-container-id-2 div.sk-parallel-item:only-child::after {width: 0;}#sk-container-id-2 div.sk-dashed-wrapped {border: 1px dashed gray;margin: 0 0.4em 0.5em 0.4em;box-sizing: border-box;padding-bottom: 0.4em;background-color: white;}#sk-container-id-2 div.sk-label label {font-family: monospace;font-weight: bold;display: inline-block;line-height: 1.2em;}#sk-container-id-2 div.sk-label-container {text-align: center;}#sk-container-id-2 div.sk-container {/* jupyter's `normalize.less` sets `[hidden] { display: none; }` but bootstrap.min.css set `[hidden] { display: none !important; }` so we also need the `!important` here to be able to override the default hidden behavior on the sphinx rendered scikit-learn.org. See: https://github.com/scikit-learn/scikit-learn/issues/21755 */display: inline-block !important;position: relative;}#sk-container-id-2 div.sk-text-repr-fallback {display: none;}</style><div id=\"sk-container-id-2\" class=\"sk-top-container\"><div class=\"sk-text-repr-fallback\"><pre>DecisionTreeClassifier(class_weight={0: 12, 1: 1}, max_depth=10,\n",
       "                       min_samples_leaf=2, min_samples_split=8)</pre><b>In a Jupyter environment, please rerun this cell to show the HTML representation or trust the notebook. <br />On GitHub, the HTML representation is unable to render, please try loading this page with nbviewer.org.</b></div><div class=\"sk-container\" hidden><div class=\"sk-item\"><div class=\"sk-estimator sk-toggleable\"><input class=\"sk-toggleable__control sk-hidden--visually\" id=\"sk-estimator-id-4\" type=\"checkbox\" checked><label for=\"sk-estimator-id-4\" class=\"sk-toggleable__label sk-toggleable__label-arrow\">DecisionTreeClassifier</label><div class=\"sk-toggleable__content\"><pre>DecisionTreeClassifier(class_weight={0: 12, 1: 1}, max_depth=10,\n",
       "                       min_samples_leaf=2, min_samples_split=8)</pre></div></div></div></div></div>"
      ],
      "text/plain": [
       "DecisionTreeClassifier(class_weight={0: 12, 1: 1}, max_depth=10,\n",
       "                       min_samples_leaf=2, min_samples_split=8)"
      ]
     },
     "execution_count": 23,
     "metadata": {},
     "output_type": "execute_result"
    }
   ],
   "source": [
    "dt_3.fit(train_X_rfe,train_Y)"
   ]
  },
  {
   "cell_type": "code",
   "execution_count": null,
   "metadata": {},
   "outputs": [
    {
     "data": {
      "text/plain": [
       "0.7257022698519688"
      ]
     },
     "execution_count": 24,
     "metadata": {},
     "output_type": "execute_result"
    }
   ],
   "source": [
    "roc_auc_score(y_true=val_Y,y_score=dt_3.predict_proba(val_X_rfe)[:,1])"
   ]
  },
  {
   "cell_type": "markdown",
   "metadata": {},
   "source": [
    "### Comparing to Original model trained on all features"
   ]
  },
  {
   "cell_type": "code",
   "execution_count": null,
   "metadata": {},
   "outputs": [
    {
     "data": {
      "text/html": [
       "<style>#sk-container-id-3 {color: black;}#sk-container-id-3 pre{padding: 0;}#sk-container-id-3 div.sk-toggleable {background-color: white;}#sk-container-id-3 label.sk-toggleable__label {cursor: pointer;display: block;width: 100%;margin-bottom: 0;padding: 0.3em;box-sizing: border-box;text-align: center;}#sk-container-id-3 label.sk-toggleable__label-arrow:before {content: \"▸\";float: left;margin-right: 0.25em;color: #696969;}#sk-container-id-3 label.sk-toggleable__label-arrow:hover:before {color: black;}#sk-container-id-3 div.sk-estimator:hover label.sk-toggleable__label-arrow:before {color: black;}#sk-container-id-3 div.sk-toggleable__content {max-height: 0;max-width: 0;overflow: hidden;text-align: left;background-color: #f0f8ff;}#sk-container-id-3 div.sk-toggleable__content pre {margin: 0.2em;color: black;border-radius: 0.25em;background-color: #f0f8ff;}#sk-container-id-3 input.sk-toggleable__control:checked~div.sk-toggleable__content {max-height: 200px;max-width: 100%;overflow: auto;}#sk-container-id-3 input.sk-toggleable__control:checked~label.sk-toggleable__label-arrow:before {content: \"▾\";}#sk-container-id-3 div.sk-estimator input.sk-toggleable__control:checked~label.sk-toggleable__label {background-color: #d4ebff;}#sk-container-id-3 div.sk-label input.sk-toggleable__control:checked~label.sk-toggleable__label {background-color: #d4ebff;}#sk-container-id-3 input.sk-hidden--visually {border: 0;clip: rect(1px 1px 1px 1px);clip: rect(1px, 1px, 1px, 1px);height: 1px;margin: -1px;overflow: hidden;padding: 0;position: absolute;width: 1px;}#sk-container-id-3 div.sk-estimator {font-family: monospace;background-color: #f0f8ff;border: 1px dotted black;border-radius: 0.25em;box-sizing: border-box;margin-bottom: 0.5em;}#sk-container-id-3 div.sk-estimator:hover {background-color: #d4ebff;}#sk-container-id-3 div.sk-parallel-item::after {content: \"\";width: 100%;border-bottom: 1px solid gray;flex-grow: 1;}#sk-container-id-3 div.sk-label:hover label.sk-toggleable__label {background-color: #d4ebff;}#sk-container-id-3 div.sk-serial::before {content: \"\";position: absolute;border-left: 1px solid gray;box-sizing: border-box;top: 0;bottom: 0;left: 50%;z-index: 0;}#sk-container-id-3 div.sk-serial {display: flex;flex-direction: column;align-items: center;background-color: white;padding-right: 0.2em;padding-left: 0.2em;position: relative;}#sk-container-id-3 div.sk-item {position: relative;z-index: 1;}#sk-container-id-3 div.sk-parallel {display: flex;align-items: stretch;justify-content: center;background-color: white;position: relative;}#sk-container-id-3 div.sk-item::before, #sk-container-id-3 div.sk-parallel-item::before {content: \"\";position: absolute;border-left: 1px solid gray;box-sizing: border-box;top: 0;bottom: 0;left: 50%;z-index: -1;}#sk-container-id-3 div.sk-parallel-item {display: flex;flex-direction: column;z-index: 1;position: relative;background-color: white;}#sk-container-id-3 div.sk-parallel-item:first-child::after {align-self: flex-end;width: 50%;}#sk-container-id-3 div.sk-parallel-item:last-child::after {align-self: flex-start;width: 50%;}#sk-container-id-3 div.sk-parallel-item:only-child::after {width: 0;}#sk-container-id-3 div.sk-dashed-wrapped {border: 1px dashed gray;margin: 0 0.4em 0.5em 0.4em;box-sizing: border-box;padding-bottom: 0.4em;background-color: white;}#sk-container-id-3 div.sk-label label {font-family: monospace;font-weight: bold;display: inline-block;line-height: 1.2em;}#sk-container-id-3 div.sk-label-container {text-align: center;}#sk-container-id-3 div.sk-container {/* jupyter's `normalize.less` sets `[hidden] { display: none; }` but bootstrap.min.css set `[hidden] { display: none !important; }` so we also need the `!important` here to be able to override the default hidden behavior on the sphinx rendered scikit-learn.org. See: https://github.com/scikit-learn/scikit-learn/issues/21755 */display: inline-block !important;position: relative;}#sk-container-id-3 div.sk-text-repr-fallback {display: none;}</style><div id=\"sk-container-id-3\" class=\"sk-top-container\"><div class=\"sk-text-repr-fallback\"><pre>DecisionTreeClassifier()</pre><b>In a Jupyter environment, please rerun this cell to show the HTML representation or trust the notebook. <br />On GitHub, the HTML representation is unable to render, please try loading this page with nbviewer.org.</b></div><div class=\"sk-container\" hidden><div class=\"sk-item\"><div class=\"sk-estimator sk-toggleable\"><input class=\"sk-toggleable__control sk-hidden--visually\" id=\"sk-estimator-id-5\" type=\"checkbox\" checked><label for=\"sk-estimator-id-5\" class=\"sk-toggleable__label sk-toggleable__label-arrow\">DecisionTreeClassifier</label><div class=\"sk-toggleable__content\"><pre>DecisionTreeClassifier()</pre></div></div></div></div></div>"
      ],
      "text/plain": [
       "DecisionTreeClassifier()"
      ]
     },
     "execution_count": 25,
     "metadata": {},
     "output_type": "execute_result"
    }
   ],
   "source": [
    "dt_raw = tree.DecisionTreeClassifier()\n",
    "dt_raw.fit(train_X,train_Y)"
   ]
  },
  {
   "cell_type": "code",
   "execution_count": null,
   "metadata": {},
   "outputs": [
    {
     "data": {
      "text/plain": [
       "0.5499642679963819"
      ]
     },
     "execution_count": 26,
     "metadata": {},
     "output_type": "execute_result"
    }
   ],
   "source": [
    "roc_auc_score(y_true=val_Y,y_score=dt_raw.predict_proba(val_X)[:,1])"
   ]
  },
  {
   "cell_type": "code",
   "execution_count": null,
   "metadata": {},
   "outputs": [],
   "source": [
    "val_res_3= dt_3.predict_proba(val_X_rfe)[:,1]\n",
    "val_res_raw = dt_raw.predict_proba(val_X)[:,1]"
   ]
  },
  {
   "cell_type": "code",
   "execution_count": null,
   "metadata": {},
   "outputs": [
    {
     "data": {
      "text/plain": [
       "{'web': 'https://www.comet.com/api/image/download?imageId=7860c0171fd249768dfdc4d12be1326c&experimentKey=7ed50c650eed45188f3c751320e6aa22',\n",
       " 'api': 'https://www.comet.com/api/rest/v1/image/get-image?imageId=7860c0171fd249768dfdc4d12be1326c&experimentKey=7ed50c650eed45188f3c751320e6aa22',\n",
       " 'imageId': '7860c0171fd249768dfdc4d12be1326c'}"
      ]
     },
     "execution_count": 28,
     "metadata": {},
     "output_type": "execute_result"
    },
    {
     "data": {
      "image/png": "[encoded data removed]",
      "text/plain": [
       "<Figure size 640x480 with 1 Axes>"
      ]
     },
     "metadata": {},
     "output_type": "display_data"
    }
   ],
   "source": [
    "fpr_3,tpr_3,threshold_3 = metrics.roc_curve(val_Y,val_res_3)\n",
    "fpr_raw,tpr_raw,threshold_raw = metrics.roc_curve(val_Y,val_res_raw)\n",
    "\n",
    "auc_3 = metrics.auc(fpr_3,tpr_3)\n",
    "auc_raw = metrics.auc(fpr_raw,tpr_raw)\n",
    "\n",
    "plt.title(f'ROC/AUC for tuned&feature selected and not-tuned Decision Tree')\n",
    "plt.plot(fpr_3,tpr_3,'y',label=f\"Tune and feature selected, AUC =%0.3f\"%auc_3)\n",
    "plt.plot(fpr_raw,tpr_raw,'b',label=f\"Raw, AUC =%0.3f\"%auc_raw)\n",
    "\n",
    "plt.plot([0, 1], [0, 1],'r--')\n",
    "plt.xlim([-0.05, 1.05])\n",
    "plt.ylim([-0.05, 1.05])\n",
    "plt.ylabel('TPR')\n",
    "plt.xlabel('FPR')\n",
    "plt.grid(True)\n",
    "plt.legend(loc=\"lower right\")\n",
    "exp.log_figure('ROC/AUC for tuned&feature selected and not-tuned Decision Tree')"
   ]
  },
  {
   "cell_type": "code",
   "execution_count": null,
   "metadata": {},
   "outputs": [],
   "source": [
    "dt_path = './models/decision_tree_part6.joblib'\n",
    "dump(dt_3,dt_path)\n",
    "exp.log_model('Decision_Tree_W_FS_HT',dt_path)\n",
    "exp.log_parameters(best_params1)"
   ]
  },
  {
   "cell_type": "markdown",
   "metadata": {},
   "source": [
    "### Graphs"
   ]
  },
  {
   "cell_type": "code",
   "execution_count": null,
   "metadata": {},
   "outputs": [],
   "source": [
    "precision_dt = metrics.precision_score(val_Y,dt_3.predict(val_X_rfe))\n",
    "recall_dt = metrics.recall_score(val_Y,dt_3.predict(val_X_rfe))\n",
    "roc_dt = roc_auc_score(y_true=val_Y,y_score=dt_3.predict_proba(val_X_rfe)[:,1])"
   ]
  },
  {
   "cell_type": "code",
   "execution_count": null,
   "metadata": {},
   "outputs": [],
   "source": [
    "metrics = {\n",
    "    'precision_dt':precision_dt,\n",
    "    'recall_dt':recall_dt,\n",
    "    'roc_dt':roc_dt\n",
    "}"
   ]
  },
  {
   "cell_type": "code",
   "execution_count": null,
   "metadata": {},
   "outputs": [],
   "source": [
    "exp.log_metrics(metrics)"
   ]
  },
  {
   "cell_type": "code",
   "execution_count": null,
   "metadata": {},
   "outputs": [
    {
     "data": {
      "text/plain": [
       "Index(['game_time', 'y', 'Time_from_the_last_event',\n",
       "       'Distance_from_the_last_event', 'Speed', 'shot_dist'],\n",
       "      dtype='object')"
      ]
     },
     "execution_count": 34,
     "metadata": {},
     "output_type": "execute_result"
    }
   ],
   "source": [
    "features = train_X_rfe.columns\n",
    "features"
   ]
  },
  {
   "cell_type": "markdown",
   "metadata": {},
   "source": [
    "\n",
    "### Figures"
   ]
  },
  {
   "cell_type": "code",
   "execution_count": null,
   "metadata": {},
   "outputs": [],
   "source": [
    "train_X_dt = train_X[['game_time', 'y', 'Time_from_the_last_event',\n",
    "       'Distance_from_the_last_event', 'Speed', 'shot_dist']]\n",
    "val_X_dt = val_X[['game_time', 'y', 'Time_from_the_last_event',\n",
    "       'Distance_from_the_last_event', 'Speed', 'shot_dist']]"
   ]
  },
  {
   "cell_type": "code",
   "execution_count": null,
   "metadata": {},
   "outputs": [
    {
     "data": {
      "text/html": [
       "<div>\n",
       "<style scoped>\n",
       "    .dataframe tbody tr th:only-of-type {\n",
       "        vertical-align: middle;\n",
       "    }\n",
       "\n",
       "    .dataframe tbody tr th {\n",
       "        vertical-align: top;\n",
       "    }\n",
       "\n",
       "    .dataframe thead th {\n",
       "        text-align: right;\n",
       "    }\n",
       "</style>\n",
       "<table border=\"1\" class=\"dataframe\">\n",
       "  <thead>\n",
       "    <tr style=\"text-align: right;\">\n",
       "      <th></th>\n",
       "      <th>game_time</th>\n",
       "      <th>y</th>\n",
       "      <th>Time_from_the_last_event</th>\n",
       "      <th>Distance_from_the_last_event</th>\n",
       "      <th>Speed</th>\n",
       "      <th>shot_dist</th>\n",
       "    </tr>\n",
       "  </thead>\n",
       "  <tbody>\n",
       "    <tr>\n",
       "      <th>203692</th>\n",
       "      <td>1097</td>\n",
       "      <td>-5.0</td>\n",
       "      <td>5</td>\n",
       "      <td>37.363083</td>\n",
       "      <td>7.472617</td>\n",
       "      <td>28.442925</td>\n",
       "    </tr>\n",
       "    <tr>\n",
       "      <th>192732</th>\n",
       "      <td>219</td>\n",
       "      <td>18.0</td>\n",
       "      <td>15</td>\n",
       "      <td>122.000000</td>\n",
       "      <td>8.133333</td>\n",
       "      <td>68.410526</td>\n",
       "    </tr>\n",
       "    <tr>\n",
       "      <th>242616</th>\n",
       "      <td>110</td>\n",
       "      <td>0.0</td>\n",
       "      <td>7</td>\n",
       "      <td>5.385165</td>\n",
       "      <td>0.769309</td>\n",
       "      <td>20.000000</td>\n",
       "    </tr>\n",
       "    <tr>\n",
       "      <th>160939</th>\n",
       "      <td>739</td>\n",
       "      <td>-36.0</td>\n",
       "      <td>37</td>\n",
       "      <td>135.665029</td>\n",
       "      <td>3.666622</td>\n",
       "      <td>43.829214</td>\n",
       "    </tr>\n",
       "    <tr>\n",
       "      <th>252090</th>\n",
       "      <td>78</td>\n",
       "      <td>-14.0</td>\n",
       "      <td>38</td>\n",
       "      <td>65.513357</td>\n",
       "      <td>1.724036</td>\n",
       "      <td>28.653098</td>\n",
       "    </tr>\n",
       "    <tr>\n",
       "      <th>...</th>\n",
       "      <td>...</td>\n",
       "      <td>...</td>\n",
       "      <td>...</td>\n",
       "      <td>...</td>\n",
       "      <td>...</td>\n",
       "      <td>...</td>\n",
       "    </tr>\n",
       "    <tr>\n",
       "      <th>149180</th>\n",
       "      <td>1200</td>\n",
       "      <td>3.0</td>\n",
       "      <td>11</td>\n",
       "      <td>27.294688</td>\n",
       "      <td>2.481335</td>\n",
       "      <td>12.369317</td>\n",
       "    </tr>\n",
       "    <tr>\n",
       "      <th>96703</th>\n",
       "      <td>187</td>\n",
       "      <td>0.0</td>\n",
       "      <td>1</td>\n",
       "      <td>31.144823</td>\n",
       "      <td>31.144823</td>\n",
       "      <td>13.000000</td>\n",
       "    </tr>\n",
       "    <tr>\n",
       "      <th>144851</th>\n",
       "      <td>763</td>\n",
       "      <td>-10.0</td>\n",
       "      <td>7</td>\n",
       "      <td>62.625873</td>\n",
       "      <td>8.946553</td>\n",
       "      <td>79.630396</td>\n",
       "    </tr>\n",
       "    <tr>\n",
       "      <th>91157</th>\n",
       "      <td>324</td>\n",
       "      <td>27.0</td>\n",
       "      <td>14</td>\n",
       "      <td>14.866069</td>\n",
       "      <td>1.061862</td>\n",
       "      <td>43.416587</td>\n",
       "    </tr>\n",
       "    <tr>\n",
       "      <th>216205</th>\n",
       "      <td>879</td>\n",
       "      <td>-35.0</td>\n",
       "      <td>9</td>\n",
       "      <td>65.513357</td>\n",
       "      <td>7.279262</td>\n",
       "      <td>66.887966</td>\n",
       "    </tr>\n",
       "  </tbody>\n",
       "</table>\n",
       "<p>57711 rows × 6 columns</p>\n",
       "</div>"
      ],
      "text/plain": [
       "        game_time     y  Time_from_the_last_event  \\\n",
       "203692       1097  -5.0                         5   \n",
       "192732        219  18.0                        15   \n",
       "242616        110   0.0                         7   \n",
       "160939        739 -36.0                        37   \n",
       "252090         78 -14.0                        38   \n",
       "...           ...   ...                       ...   \n",
       "149180       1200   3.0                        11   \n",
       "96703         187   0.0                         1   \n",
       "144851        763 -10.0                         7   \n",
       "91157         324  27.0                        14   \n",
       "216205        879 -35.0                         9   \n",
       "\n",
       "        Distance_from_the_last_event      Speed  shot_dist  \n",
       "203692                     37.363083   7.472617  28.442925  \n",
       "192732                    122.000000   8.133333  68.410526  \n",
       "242616                      5.385165   0.769309  20.000000  \n",
       "160939                    135.665029   3.666622  43.829214  \n",
       "252090                     65.513357   1.724036  28.653098  \n",
       "...                              ...        ...        ...  \n",
       "149180                     27.294688   2.481335  12.369317  \n",
       "96703                      31.144823  31.144823  13.000000  \n",
       "144851                     62.625873   8.946553  79.630396  \n",
       "91157                      14.866069   1.061862  43.416587  \n",
       "216205                     65.513357   7.279262  66.887966  \n",
       "\n",
       "[57711 rows x 6 columns]"
      ]
     },
     "execution_count": 12,
     "metadata": {},
     "output_type": "execute_result"
    }
   ],
   "source": [
    "val_X_dt"
   ]
  },
  {
   "cell_type": "code",
   "execution_count": null,
   "metadata": {},
   "outputs": [],
   "source": [
    "dt_path = './models/decision_tree_part6.joblib'\n",
    "dt_f = load(dt_path)"
   ]
  },
  {
   "cell_type": "code",
   "execution_count": null,
   "metadata": {},
   "outputs": [
    {
     "data": {
      "text/html": [
       "<style>#sk-container-id-1 {color: black;}#sk-container-id-1 pre{padding: 0;}#sk-container-id-1 div.sk-toggleable {background-color: white;}#sk-container-id-1 label.sk-toggleable__label {cursor: pointer;display: block;width: 100%;margin-bottom: 0;padding: 0.3em;box-sizing: border-box;text-align: center;}#sk-container-id-1 label.sk-toggleable__label-arrow:before {content: \"▸\";float: left;margin-right: 0.25em;color: #696969;}#sk-container-id-1 label.sk-toggleable__label-arrow:hover:before {color: black;}#sk-container-id-1 div.sk-estimator:hover label.sk-toggleable__label-arrow:before {color: black;}#sk-container-id-1 div.sk-toggleable__content {max-height: 0;max-width: 0;overflow: hidden;text-align: left;background-color: #f0f8ff;}#sk-container-id-1 div.sk-toggleable__content pre {margin: 0.2em;color: black;border-radius: 0.25em;background-color: #f0f8ff;}#sk-container-id-1 input.sk-toggleable__control:checked~div.sk-toggleable__content {max-height: 200px;max-width: 100%;overflow: auto;}#sk-container-id-1 input.sk-toggleable__control:checked~label.sk-toggleable__label-arrow:before {content: \"▾\";}#sk-container-id-1 div.sk-estimator input.sk-toggleable__control:checked~label.sk-toggleable__label {background-color: #d4ebff;}#sk-container-id-1 div.sk-label input.sk-toggleable__control:checked~label.sk-toggleable__label {background-color: #d4ebff;}#sk-container-id-1 input.sk-hidden--visually {border: 0;clip: rect(1px 1px 1px 1px);clip: rect(1px, 1px, 1px, 1px);height: 1px;margin: -1px;overflow: hidden;padding: 0;position: absolute;width: 1px;}#sk-container-id-1 div.sk-estimator {font-family: monospace;background-color: #f0f8ff;border: 1px dotted black;border-radius: 0.25em;box-sizing: border-box;margin-bottom: 0.5em;}#sk-container-id-1 div.sk-estimator:hover {background-color: #d4ebff;}#sk-container-id-1 div.sk-parallel-item::after {content: \"\";width: 100%;border-bottom: 1px solid gray;flex-grow: 1;}#sk-container-id-1 div.sk-label:hover label.sk-toggleable__label {background-color: #d4ebff;}#sk-container-id-1 div.sk-serial::before {content: \"\";position: absolute;border-left: 1px solid gray;box-sizing: border-box;top: 0;bottom: 0;left: 50%;z-index: 0;}#sk-container-id-1 div.sk-serial {display: flex;flex-direction: column;align-items: center;background-color: white;padding-right: 0.2em;padding-left: 0.2em;position: relative;}#sk-container-id-1 div.sk-item {position: relative;z-index: 1;}#sk-container-id-1 div.sk-parallel {display: flex;align-items: stretch;justify-content: center;background-color: white;position: relative;}#sk-container-id-1 div.sk-item::before, #sk-container-id-1 div.sk-parallel-item::before {content: \"\";position: absolute;border-left: 1px solid gray;box-sizing: border-box;top: 0;bottom: 0;left: 50%;z-index: -1;}#sk-container-id-1 div.sk-parallel-item {display: flex;flex-direction: column;z-index: 1;position: relative;background-color: white;}#sk-container-id-1 div.sk-parallel-item:first-child::after {align-self: flex-end;width: 50%;}#sk-container-id-1 div.sk-parallel-item:last-child::after {align-self: flex-start;width: 50%;}#sk-container-id-1 div.sk-parallel-item:only-child::after {width: 0;}#sk-container-id-1 div.sk-dashed-wrapped {border: 1px dashed gray;margin: 0 0.4em 0.5em 0.4em;box-sizing: border-box;padding-bottom: 0.4em;background-color: white;}#sk-container-id-1 div.sk-label label {font-family: monospace;font-weight: bold;display: inline-block;line-height: 1.2em;}#sk-container-id-1 div.sk-label-container {text-align: center;}#sk-container-id-1 div.sk-container {/* jupyter's `normalize.less` sets `[hidden] { display: none; }` but bootstrap.min.css set `[hidden] { display: none !important; }` so we also need the `!important` here to be able to override the default hidden behavior on the sphinx rendered scikit-learn.org. See: https://github.com/scikit-learn/scikit-learn/issues/21755 */display: inline-block !important;position: relative;}#sk-container-id-1 div.sk-text-repr-fallback {display: none;}</style><div id=\"sk-container-id-1\" class=\"sk-top-container\"><div class=\"sk-text-repr-fallback\"><pre>DecisionTreeClassifier(class_weight={0: 12, 1: 1}, max_depth=10,\n",
       "                       min_samples_leaf=2, min_samples_split=8)</pre><b>In a Jupyter environment, please rerun this cell to show the HTML representation or trust the notebook. <br />On GitHub, the HTML representation is unable to render, please try loading this page with nbviewer.org.</b></div><div class=\"sk-container\" hidden><div class=\"sk-item\"><div class=\"sk-estimator sk-toggleable\"><input class=\"sk-toggleable__control sk-hidden--visually\" id=\"sk-estimator-id-1\" type=\"checkbox\" checked><label for=\"sk-estimator-id-1\" class=\"sk-toggleable__label sk-toggleable__label-arrow\">DecisionTreeClassifier</label><div class=\"sk-toggleable__content\"><pre>DecisionTreeClassifier(class_weight={0: 12, 1: 1}, max_depth=10,\n",
       "                       min_samples_leaf=2, min_samples_split=8)</pre></div></div></div></div></div>"
      ],
      "text/plain": [
       "DecisionTreeClassifier(class_weight={0: 12, 1: 1}, max_depth=10,\n",
       "                       min_samples_leaf=2, min_samples_split=8)"
      ]
     },
     "execution_count": 14,
     "metadata": {},
     "output_type": "execute_result"
    }
   ],
   "source": [
    "dt_f"
   ]
  },
  {
   "cell_type": "markdown",
   "metadata": {},
   "source": [
    "### ROC/AUC"
   ]
  },
  {
   "cell_type": "code",
   "execution_count": null,
   "metadata": {},
   "outputs": [],
   "source": [
    "predict_proba = dt_f.predict_proba(val_X_dt)\n",
    "val_res = predict_proba[:,1]"
   ]
  },
  {
   "cell_type": "code",
   "execution_count": null,
   "metadata": {},
   "outputs": [
    {
     "data": {
      "image/png": "[encoded data removed]",
      "text/plain": [
       "<Figure size 640x480 with 1 Axes>"
      ]
     },
     "metadata": {},
     "output_type": "display_data"
    }
   ],
   "source": [
    "fpr,tpr,threshold,roc_auc_score = roc_auc_plot(val_Y,predict_proba,'Decision Tree','features selected and hyperparameters tuned')\n",
    "exp.log_figure(figure_name='ROC/AUC for Decision Tree trained with features selected and hyperparameters tuned')"
   ]
  },
  {
   "cell_type": "code",
   "execution_count": null,
   "metadata": {},
   "outputs": [
    {
     "data": {
      "text/html": [
       "<div>\n",
       "<style scoped>\n",
       "    .dataframe tbody tr th:only-of-type {\n",
       "        vertical-align: middle;\n",
       "    }\n",
       "\n",
       "    .dataframe tbody tr th {\n",
       "        vertical-align: top;\n",
       "    }\n",
       "\n",
       "    .dataframe thead th {\n",
       "        text-align: right;\n",
       "    }\n",
       "</style>\n",
       "<table border=\"1\" class=\"dataframe\">\n",
       "  <thead>\n",
       "    <tr style=\"text-align: right;\">\n",
       "      <th></th>\n",
       "      <th>is_goal</th>\n",
       "      <th>goal_proba</th>\n",
       "      <th>#goal+#shot</th>\n",
       "      <th>#goal</th>\n",
       "      <th>#goal/#goal+#shot</th>\n",
       "      <th>rank</th>\n",
       "      <th>goal_prob_sum</th>\n",
       "      <th>goal_prob_cumulative_sum</th>\n",
       "      <th>cum_percent</th>\n",
       "    </tr>\n",
       "  </thead>\n",
       "  <tbody>\n",
       "    <tr>\n",
       "      <th>252232</th>\n",
       "      <td>0</td>\n",
       "      <td>1.0</td>\n",
       "      <td>1</td>\n",
       "      <td>0.0</td>\n",
       "      <td>0.000000</td>\n",
       "      <td>99.961013</td>\n",
       "      <td>916794.82562</td>\n",
       "      <td>0.000000</td>\n",
       "      <td>0.000000</td>\n",
       "    </tr>\n",
       "    <tr>\n",
       "      <th>240732</th>\n",
       "      <td>0</td>\n",
       "      <td>1.0</td>\n",
       "      <td>2</td>\n",
       "      <td>0.0</td>\n",
       "      <td>0.000000</td>\n",
       "      <td>99.961013</td>\n",
       "      <td>916794.82562</td>\n",
       "      <td>0.000000</td>\n",
       "      <td>0.000000</td>\n",
       "    </tr>\n",
       "    <tr>\n",
       "      <th>164998</th>\n",
       "      <td>0</td>\n",
       "      <td>1.0</td>\n",
       "      <td>3</td>\n",
       "      <td>0.0</td>\n",
       "      <td>0.000000</td>\n",
       "      <td>99.961013</td>\n",
       "      <td>916794.82562</td>\n",
       "      <td>0.000000</td>\n",
       "      <td>0.000000</td>\n",
       "    </tr>\n",
       "    <tr>\n",
       "      <th>41706</th>\n",
       "      <td>0</td>\n",
       "      <td>1.0</td>\n",
       "      <td>4</td>\n",
       "      <td>0.0</td>\n",
       "      <td>0.000000</td>\n",
       "      <td>99.961013</td>\n",
       "      <td>916794.82562</td>\n",
       "      <td>0.000000</td>\n",
       "      <td>0.000000</td>\n",
       "    </tr>\n",
       "    <tr>\n",
       "      <th>85746</th>\n",
       "      <td>0</td>\n",
       "      <td>1.0</td>\n",
       "      <td>5</td>\n",
       "      <td>0.0</td>\n",
       "      <td>0.000000</td>\n",
       "      <td>99.961013</td>\n",
       "      <td>916794.82562</td>\n",
       "      <td>0.000000</td>\n",
       "      <td>0.000000</td>\n",
       "    </tr>\n",
       "    <tr>\n",
       "      <th>...</th>\n",
       "      <td>...</td>\n",
       "      <td>...</td>\n",
       "      <td>...</td>\n",
       "      <td>...</td>\n",
       "      <td>...</td>\n",
       "      <td>...</td>\n",
       "      <td>...</td>\n",
       "      <td>...</td>\n",
       "      <td>...</td>\n",
       "    </tr>\n",
       "    <tr>\n",
       "      <th>157150</th>\n",
       "      <td>0</td>\n",
       "      <td>0.0</td>\n",
       "      <td>57707</td>\n",
       "      <td>5316.0</td>\n",
       "      <td>9.212054</td>\n",
       "      <td>0.382076</td>\n",
       "      <td>916794.82562</td>\n",
       "      <td>916757.979001</td>\n",
       "      <td>99.995981</td>\n",
       "    </tr>\n",
       "    <tr>\n",
       "      <th>92168</th>\n",
       "      <td>0</td>\n",
       "      <td>0.0</td>\n",
       "      <td>57708</td>\n",
       "      <td>5316.0</td>\n",
       "      <td>9.211894</td>\n",
       "      <td>0.382076</td>\n",
       "      <td>916794.82562</td>\n",
       "      <td>916767.190895</td>\n",
       "      <td>99.996986</td>\n",
       "    </tr>\n",
       "    <tr>\n",
       "      <th>80090</th>\n",
       "      <td>0</td>\n",
       "      <td>0.0</td>\n",
       "      <td>57709</td>\n",
       "      <td>5316.0</td>\n",
       "      <td>9.211735</td>\n",
       "      <td>0.382076</td>\n",
       "      <td>916794.82562</td>\n",
       "      <td>916776.402630</td>\n",
       "      <td>99.997991</td>\n",
       "    </tr>\n",
       "    <tr>\n",
       "      <th>41315</th>\n",
       "      <td>0</td>\n",
       "      <td>0.0</td>\n",
       "      <td>57710</td>\n",
       "      <td>5316.0</td>\n",
       "      <td>9.211575</td>\n",
       "      <td>0.382076</td>\n",
       "      <td>916794.82562</td>\n",
       "      <td>916785.614205</td>\n",
       "      <td>99.998995</td>\n",
       "    </tr>\n",
       "    <tr>\n",
       "      <th>143903</th>\n",
       "      <td>0</td>\n",
       "      <td>0.0</td>\n",
       "      <td>57711</td>\n",
       "      <td>5316.0</td>\n",
       "      <td>9.211416</td>\n",
       "      <td>0.382076</td>\n",
       "      <td>916794.82562</td>\n",
       "      <td>916794.825620</td>\n",
       "      <td>100.000000</td>\n",
       "    </tr>\n",
       "  </tbody>\n",
       "</table>\n",
       "<p>57711 rows × 9 columns</p>\n",
       "</div>"
      ],
      "text/plain": [
       "        is_goal  goal_proba  #goal+#shot   #goal  #goal/#goal+#shot  \\\n",
       "252232        0         1.0            1     0.0           0.000000   \n",
       "240732        0         1.0            2     0.0           0.000000   \n",
       "164998        0         1.0            3     0.0           0.000000   \n",
       "41706         0         1.0            4     0.0           0.000000   \n",
       "85746         0         1.0            5     0.0           0.000000   \n",
       "...         ...         ...          ...     ...                ...   \n",
       "157150        0         0.0        57707  5316.0           9.212054   \n",
       "92168         0         0.0        57708  5316.0           9.211894   \n",
       "80090         0         0.0        57709  5316.0           9.211735   \n",
       "41315         0         0.0        57710  5316.0           9.211575   \n",
       "143903        0         0.0        57711  5316.0           9.211416   \n",
       "\n",
       "             rank  goal_prob_sum  goal_prob_cumulative_sum  cum_percent  \n",
       "252232  99.961013   916794.82562                  0.000000     0.000000  \n",
       "240732  99.961013   916794.82562                  0.000000     0.000000  \n",
       "164998  99.961013   916794.82562                  0.000000     0.000000  \n",
       "41706   99.961013   916794.82562                  0.000000     0.000000  \n",
       "85746   99.961013   916794.82562                  0.000000     0.000000  \n",
       "...           ...            ...                       ...          ...  \n",
       "157150   0.382076   916794.82562             916757.979001    99.995981  \n",
       "92168    0.382076   916794.82562             916767.190895    99.996986  \n",
       "80090    0.382076   916794.82562             916776.402630    99.997991  \n",
       "41315    0.382076   916794.82562             916785.614205    99.998995  \n",
       "143903   0.382076   916794.82562             916794.825620   100.000000  \n",
       "\n",
       "[57711 rows x 9 columns]"
      ]
     },
     "execution_count": 17,
     "metadata": {},
     "output_type": "execute_result"
    }
   ],
   "source": [
    "probas_and_label = helper_df(val_Y,predict_proba)\n",
    "probas_and_label"
   ]
  },
  {
   "cell_type": "code",
   "execution_count": null,
   "metadata": {},
   "outputs": [
    {
     "data": {
      "text/plain": [
       "<matplotlib.legend.Legend at 0x1d86a450ee0>"
      ]
     },
     "execution_count": 21,
     "metadata": {},
     "output_type": "execute_result"
    },
    {
     "data": {
      "image/png": "[encoded data removed]",
      "text/plain": [
       "<Figure size 640x480 with 1 Axes>"
      ]
     },
     "metadata": {},
     "output_type": "display_data"
    }
   ],
   "source": [
    "start_length = int(len(probas_and_label)*0.01)\n",
    "plt.plot(probas_and_label['rank'].iloc[start_length:],probas_and_label['#goal/#goal+#shot'].iloc[start_length:],label=\"selected features\")\n",
    "plt.title(f'Goal Rate for Decision Tree trained with features selected and hyperparameters tuned')\n",
    "plt.xlim([105,-5])\n",
    "plt.ylim([-5,105])\n",
    "plt.grid(True)\n",
    "plt.ylabel(\"Goals/(Shots+Goals) (%)\")\n",
    "plt.xlabel(\"Shot probability model percentile\")\n",
    "plt.legend()\n",
    "exp.log_figure(figure_name='Goal Rate for Decision Tree trained with features selected and hyperparameters tuned')"
   ]
  },
  {
   "cell_type": "code",
   "execution_count": null,
   "metadata": {},
   "outputs": [
    {
     "data": {
      "text/plain": [
       "<matplotlib.legend.Legend at 0x1d86dc96b60>"
      ]
     },
     "execution_count": 23,
     "metadata": {},
     "output_type": "execute_result"
    },
    {
     "data": {
      "image/png": "[encoded data removed]",
      "text/plain": [
       "<Figure size 640x480 with 1 Axes>"
      ]
     },
     "metadata": {},
     "output_type": "display_data"
    }
   ],
   "source": [
    "plt.plot(probas_and_label['rank'],probas_and_label['cum_percent'],label=\"selected features\")\n",
    "plt.title(f'Cumulative % of goals for Decision Tree trained with features selected and hyperparameters tuned')\n",
    "plt.xlim([105,-5])\n",
    "plt.ylim([-5,105])\n",
    "plt.grid(True)\n",
    "plt.ylabel(\"Proportion (%)\")\n",
    "plt.xlabel(\"Shot probability model percentile\")\n",
    "plt.legend()\n",
    "exp.log_figure(figure_name=f'Cumulative % of goals for Decision Tree trained with features selected and hyperparameters tuned')"
   ]
  },
  {
   "cell_type": "code",
   "execution_count": null,
   "metadata": {},
   "outputs": [
    {
     "data": {
      "image/png": "[encoded data removed]",
      "text/plain": [
       "<Figure size 640x480 with 1 Axes>"
      ]
     },
     "metadata": {},
     "output_type": "display_data"
    }
   ],
   "source": [
    "disp = CalibrationDisplay.from_estimator(dt_f,val_X_dt,val_Y,n_bins=15)\n",
    "plt.title(\"Calibration Plot for Decision Tree trained with features selected and hyperparameters tuned\")\n",
    "plt.grid(True)\n",
    "exp.log_figure(figure_name=f'Calibration Plot for Decision Tree trained with features selected and hyperparameters tuned')"
   ]
  },
  {
   "cell_type": "code",
   "execution_count": null,
   "metadata": {},
   "outputs": [],
   "source": [
    "exp.end()"
   ]
  }
 ],
 "metadata": {
  "kernelspec": {
   "display_name": "base",
   "language": "python",
   "name": "python3"
  },
  "language_info": {
   "codemirror_mode": {
    "name": "ipython",
    "version": 3
   },
   "file_extension": ".py",
   "mimetype": "text/x-python",
   "name": "python",
   "nbconvert_exporter": "python",
   "pygments_lexer": "ipython3",
   "version": "3.10.9"
  }
 },
 "nbformat": 4,
 "nbformat_minor": 2
}
